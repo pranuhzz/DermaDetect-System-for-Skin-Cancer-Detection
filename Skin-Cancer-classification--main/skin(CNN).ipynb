{
 "cells": [
  {
   "cell_type": "markdown",
   "id": "f247a7c9-6c27-44b6-bfe5-506360d2e921",
   "metadata": {},
   "source": [
    "# Importing Essential Libraries"
   ]
  },
  {
   "cell_type": "code",
   "execution_count": 2,
   "id": "43948a98-0057-4c92-a880-a5b28a9dbcb4",
   "metadata": {},
   "outputs": [],
   "source": [
    "import pandas as pd\n",
    "import numpy as np\n",
    "import seaborn as sns\n",
    "import matplotlib.pyplot as plt\n",
    "import random\n",
    "import warnings \n",
    "warnings.filterwarnings('ignore')"
   ]
  },
  {
   "cell_type": "markdown",
   "id": "78c7fab3-33b9-4ff6-a205-711b18a28ca4",
   "metadata": {},
   "source": [
    "# Loading data and Making labels"
   ]
  },
  {
   "cell_type": "code",
   "execution_count": 2,
   "id": "7ef89e58-74b2-4e79-bdc2-3b3edc35c106",
   "metadata": {},
   "outputs": [],
   "source": [
    "path=r\"C:\\Users\\hch0a\\OneDrive\\Desktop\\skin\\data\\hmnist_28_28_RGB.csv\""
   ]
  },
  {
   "cell_type": "code",
   "execution_count": 3,
   "id": "1e275b3c-28d6-4ca2-ac89-beefdb5468b0",
   "metadata": {},
   "outputs": [],
   "source": [
    "df=pd.read_csv(path)"
   ]
  },
  {
   "cell_type": "code",
   "execution_count": 4,
   "id": "d601f04a-4351-46bc-bf5b-31a4122371fc",
   "metadata": {},
   "outputs": [
    {
     "data": {
      "text/html": [
       "<div>\n",
       "<style scoped>\n",
       "    .dataframe tbody tr th:only-of-type {\n",
       "        vertical-align: middle;\n",
       "    }\n",
       "\n",
       "    .dataframe tbody tr th {\n",
       "        vertical-align: top;\n",
       "    }\n",
       "\n",
       "    .dataframe thead th {\n",
       "        text-align: right;\n",
       "    }\n",
       "</style>\n",
       "<table border=\"1\" class=\"dataframe\">\n",
       "  <thead>\n",
       "    <tr style=\"text-align: right;\">\n",
       "      <th></th>\n",
       "      <th>pixel0000</th>\n",
       "      <th>pixel0001</th>\n",
       "      <th>pixel0002</th>\n",
       "      <th>pixel0003</th>\n",
       "      <th>pixel0004</th>\n",
       "      <th>pixel0005</th>\n",
       "      <th>pixel0006</th>\n",
       "      <th>pixel0007</th>\n",
       "      <th>pixel0008</th>\n",
       "      <th>pixel0009</th>\n",
       "      <th>...</th>\n",
       "      <th>pixel2343</th>\n",
       "      <th>pixel2344</th>\n",
       "      <th>pixel2345</th>\n",
       "      <th>pixel2346</th>\n",
       "      <th>pixel2347</th>\n",
       "      <th>pixel2348</th>\n",
       "      <th>pixel2349</th>\n",
       "      <th>pixel2350</th>\n",
       "      <th>pixel2351</th>\n",
       "      <th>label</th>\n",
       "    </tr>\n",
       "  </thead>\n",
       "  <tbody>\n",
       "    <tr>\n",
       "      <th>10010</th>\n",
       "      <td>183</td>\n",
       "      <td>165</td>\n",
       "      <td>181</td>\n",
       "      <td>182</td>\n",
       "      <td>165</td>\n",
       "      <td>180</td>\n",
       "      <td>184</td>\n",
       "      <td>166</td>\n",
       "      <td>182</td>\n",
       "      <td>188</td>\n",
       "      <td>...</td>\n",
       "      <td>208</td>\n",
       "      <td>185</td>\n",
       "      <td>187</td>\n",
       "      <td>208</td>\n",
       "      <td>186</td>\n",
       "      <td>186</td>\n",
       "      <td>206</td>\n",
       "      <td>187</td>\n",
       "      <td>189</td>\n",
       "      <td>0</td>\n",
       "    </tr>\n",
       "    <tr>\n",
       "      <th>10011</th>\n",
       "      <td>2</td>\n",
       "      <td>3</td>\n",
       "      <td>1</td>\n",
       "      <td>38</td>\n",
       "      <td>33</td>\n",
       "      <td>32</td>\n",
       "      <td>121</td>\n",
       "      <td>104</td>\n",
       "      <td>103</td>\n",
       "      <td>132</td>\n",
       "      <td>...</td>\n",
       "      <td>96</td>\n",
       "      <td>79</td>\n",
       "      <td>76</td>\n",
       "      <td>24</td>\n",
       "      <td>23</td>\n",
       "      <td>21</td>\n",
       "      <td>3</td>\n",
       "      <td>4</td>\n",
       "      <td>1</td>\n",
       "      <td>0</td>\n",
       "    </tr>\n",
       "    <tr>\n",
       "      <th>10012</th>\n",
       "      <td>132</td>\n",
       "      <td>118</td>\n",
       "      <td>118</td>\n",
       "      <td>167</td>\n",
       "      <td>149</td>\n",
       "      <td>149</td>\n",
       "      <td>175</td>\n",
       "      <td>156</td>\n",
       "      <td>160</td>\n",
       "      <td>184</td>\n",
       "      <td>...</td>\n",
       "      <td>204</td>\n",
       "      <td>181</td>\n",
       "      <td>178</td>\n",
       "      <td>181</td>\n",
       "      <td>159</td>\n",
       "      <td>153</td>\n",
       "      <td>172</td>\n",
       "      <td>151</td>\n",
       "      <td>145</td>\n",
       "      <td>0</td>\n",
       "    </tr>\n",
       "    <tr>\n",
       "      <th>10013</th>\n",
       "      <td>160</td>\n",
       "      <td>124</td>\n",
       "      <td>146</td>\n",
       "      <td>164</td>\n",
       "      <td>131</td>\n",
       "      <td>152</td>\n",
       "      <td>167</td>\n",
       "      <td>127</td>\n",
       "      <td>146</td>\n",
       "      <td>169</td>\n",
       "      <td>...</td>\n",
       "      <td>185</td>\n",
       "      <td>162</td>\n",
       "      <td>167</td>\n",
       "      <td>184</td>\n",
       "      <td>157</td>\n",
       "      <td>166</td>\n",
       "      <td>185</td>\n",
       "      <td>162</td>\n",
       "      <td>172</td>\n",
       "      <td>0</td>\n",
       "    </tr>\n",
       "    <tr>\n",
       "      <th>10014</th>\n",
       "      <td>175</td>\n",
       "      <td>142</td>\n",
       "      <td>121</td>\n",
       "      <td>181</td>\n",
       "      <td>150</td>\n",
       "      <td>134</td>\n",
       "      <td>181</td>\n",
       "      <td>150</td>\n",
       "      <td>133</td>\n",
       "      <td>178</td>\n",
       "      <td>...</td>\n",
       "      <td>159</td>\n",
       "      <td>79</td>\n",
       "      <td>82</td>\n",
       "      <td>174</td>\n",
       "      <td>137</td>\n",
       "      <td>125</td>\n",
       "      <td>175</td>\n",
       "      <td>139</td>\n",
       "      <td>126</td>\n",
       "      <td>6</td>\n",
       "    </tr>\n",
       "  </tbody>\n",
       "</table>\n",
       "<p>5 rows × 2353 columns</p>\n",
       "</div>"
      ],
      "text/plain": [
       "       pixel0000  pixel0001  pixel0002  pixel0003  pixel0004  pixel0005  \\\n",
       "10010        183        165        181        182        165        180   \n",
       "10011          2          3          1         38         33         32   \n",
       "10012        132        118        118        167        149        149   \n",
       "10013        160        124        146        164        131        152   \n",
       "10014        175        142        121        181        150        134   \n",
       "\n",
       "       pixel0006  pixel0007  pixel0008  pixel0009  ...  pixel2343  pixel2344  \\\n",
       "10010        184        166        182        188  ...        208        185   \n",
       "10011        121        104        103        132  ...         96         79   \n",
       "10012        175        156        160        184  ...        204        181   \n",
       "10013        167        127        146        169  ...        185        162   \n",
       "10014        181        150        133        178  ...        159         79   \n",
       "\n",
       "       pixel2345  pixel2346  pixel2347  pixel2348  pixel2349  pixel2350  \\\n",
       "10010        187        208        186        186        206        187   \n",
       "10011         76         24         23         21          3          4   \n",
       "10012        178        181        159        153        172        151   \n",
       "10013        167        184        157        166        185        162   \n",
       "10014         82        174        137        125        175        139   \n",
       "\n",
       "       pixel2351  label  \n",
       "10010        189      0  \n",
       "10011          1      0  \n",
       "10012        145      0  \n",
       "10013        172      0  \n",
       "10014        126      6  \n",
       "\n",
       "[5 rows x 2353 columns]"
      ]
     },
     "execution_count": 4,
     "metadata": {},
     "output_type": "execute_result"
    }
   ],
   "source": [
    "df.tail()"
   ]
  },
  {
   "cell_type": "markdown",
   "id": "dde02f2d-b624-4e21-ac99-19273d3470ad",
   "metadata": {},
   "source": [
    "# Train Test Split"
   ]
  },
  {
   "cell_type": "code",
   "execution_count": 5,
   "id": "f70f6a96-4dde-4812-b8c1-8f27e5ccca5e",
   "metadata": {},
   "outputs": [],
   "source": [
    "fractions=np.array([0.8,0.2])\n",
    "df=df.sample(frac=1)\n",
    "train_set, test_set = np.array_split(\n",
    "    df, (fractions[:-1].cumsum() * len(df)).astype(int))"
   ]
  },
  {
   "cell_type": "code",
   "execution_count": 6,
   "id": "6716608e-bc58-45b7-ab47-72d75de83009",
   "metadata": {},
   "outputs": [
    {
     "name": "stdout",
     "output_type": "stream",
     "text": [
      "8012\n"
     ]
    }
   ],
   "source": [
    "print(len(train_set))"
   ]
  },
  {
   "cell_type": "code",
   "execution_count": 7,
   "id": "3b61ae42-92bc-42e4-b1c0-60a2407f8ab2",
   "metadata": {},
   "outputs": [
    {
     "name": "stdout",
     "output_type": "stream",
     "text": [
      "2003\n"
     ]
    }
   ],
   "source": [
    "print(len(test_set))"
   ]
  },
  {
   "cell_type": "code",
   "execution_count": 8,
   "id": "d3c7912c-fee9-42fd-a568-1a2b53e7045a",
   "metadata": {},
   "outputs": [
    {
     "data": {
      "text/plain": [
       "array([4, 6, 2, 1, 0, 3, 5], dtype=int64)"
      ]
     },
     "execution_count": 8,
     "metadata": {},
     "output_type": "execute_result"
    }
   ],
   "source": [
    "df.label.unique()"
   ]
  },
  {
   "cell_type": "code",
   "execution_count": 3,
   "id": "66162698-c61e-4dc3-8492-54578a8188fc",
   "metadata": {},
   "outputs": [
    {
     "data": {
      "text/html": [
       "<div>\n",
       "<style scoped>\n",
       "    .dataframe tbody tr th:only-of-type {\n",
       "        vertical-align: middle;\n",
       "    }\n",
       "\n",
       "    .dataframe tbody tr th {\n",
       "        vertical-align: top;\n",
       "    }\n",
       "\n",
       "    .dataframe thead th {\n",
       "        text-align: right;\n",
       "    }\n",
       "</style>\n",
       "<table border=\"1\" class=\"dataframe\">\n",
       "  <thead>\n",
       "    <tr style=\"text-align: right;\">\n",
       "      <th></th>\n",
       "      <th>lesion_id</th>\n",
       "      <th>image_id</th>\n",
       "      <th>dx</th>\n",
       "      <th>dx_type</th>\n",
       "      <th>age</th>\n",
       "      <th>sex</th>\n",
       "      <th>localization</th>\n",
       "    </tr>\n",
       "  </thead>\n",
       "  <tbody>\n",
       "    <tr>\n",
       "      <th>0</th>\n",
       "      <td>HAM_0000118</td>\n",
       "      <td>ISIC_0027419</td>\n",
       "      <td>bkl</td>\n",
       "      <td>histo</td>\n",
       "      <td>80.0</td>\n",
       "      <td>male</td>\n",
       "      <td>scalp</td>\n",
       "    </tr>\n",
       "    <tr>\n",
       "      <th>1</th>\n",
       "      <td>HAM_0000118</td>\n",
       "      <td>ISIC_0025030</td>\n",
       "      <td>bkl</td>\n",
       "      <td>histo</td>\n",
       "      <td>80.0</td>\n",
       "      <td>male</td>\n",
       "      <td>scalp</td>\n",
       "    </tr>\n",
       "    <tr>\n",
       "      <th>2</th>\n",
       "      <td>HAM_0002730</td>\n",
       "      <td>ISIC_0026769</td>\n",
       "      <td>bkl</td>\n",
       "      <td>histo</td>\n",
       "      <td>80.0</td>\n",
       "      <td>male</td>\n",
       "      <td>scalp</td>\n",
       "    </tr>\n",
       "    <tr>\n",
       "      <th>3</th>\n",
       "      <td>HAM_0002730</td>\n",
       "      <td>ISIC_0025661</td>\n",
       "      <td>bkl</td>\n",
       "      <td>histo</td>\n",
       "      <td>80.0</td>\n",
       "      <td>male</td>\n",
       "      <td>scalp</td>\n",
       "    </tr>\n",
       "    <tr>\n",
       "      <th>4</th>\n",
       "      <td>HAM_0001466</td>\n",
       "      <td>ISIC_0031633</td>\n",
       "      <td>bkl</td>\n",
       "      <td>histo</td>\n",
       "      <td>75.0</td>\n",
       "      <td>male</td>\n",
       "      <td>ear</td>\n",
       "    </tr>\n",
       "  </tbody>\n",
       "</table>\n",
       "</div>"
      ],
      "text/plain": [
       "     lesion_id      image_id   dx dx_type   age   sex localization\n",
       "0  HAM_0000118  ISIC_0027419  bkl   histo  80.0  male        scalp\n",
       "1  HAM_0000118  ISIC_0025030  bkl   histo  80.0  male        scalp\n",
       "2  HAM_0002730  ISIC_0026769  bkl   histo  80.0  male        scalp\n",
       "3  HAM_0002730  ISIC_0025661  bkl   histo  80.0  male        scalp\n",
       "4  HAM_0001466  ISIC_0031633  bkl   histo  75.0  male          ear"
      ]
     },
     "execution_count": 3,
     "metadata": {},
     "output_type": "execute_result"
    }
   ],
   "source": [
    "tabular_data = pd.read_csv(r\"C:\\Users\\hch0a\\OneDrive\\Desktop\\skin\\data\\HAM10000_metadata.csv\")\n",
    "tabular_data.head()"
   ]
  },
  {
   "cell_type": "code",
   "execution_count": 4,
   "id": "38d278ad-ac84-44e3-98fb-601ac36e30d8",
   "metadata": {},
   "outputs": [
    {
     "data": {
      "text/plain": [
       "Index(['lesion_id', 'image_id', 'dx', 'dx_type', 'age', 'sex', 'localization'], dtype='object')"
      ]
     },
     "execution_count": 4,
     "metadata": {},
     "output_type": "execute_result"
    }
   ],
   "source": [
    "tabular_data.columns\n"
   ]
  },
  {
   "cell_type": "markdown",
   "id": "4d3e69ca-fd4e-4ed6-805d-d2ea69f3ec60",
   "metadata": {},
   "source": [
    "## Exploratory Data Analysis and Preprocessing"
   ]
  },
  {
   "cell_type": "code",
   "execution_count": 5,
   "id": "87f26029-03c7-4c6c-893b-d32488e08e9d",
   "metadata": {},
   "outputs": [],
   "source": [
    "lasses = {4: ('nv', ' melanocytic nevi'), 6: ('mel', 'melanoma'), 2 :('bkl', 'benign keratosis-like lesions'), 1:('bcc' , ' basal cell carcinoma'), 5: ('vasc', ' pyogenic granulomas and hemorrhage'), 0: ('akiec', 'Actinic keratoses and intraepithelial carcinomae'),  3: ('df', 'dermatofibroma')}"
   ]
  },
  {
   "cell_type": "code",
   "execution_count": 6,
   "id": "1b13d175-b005-427a-8636-2cdb9208ae8f",
   "metadata": {},
   "outputs": [
    {
     "data": {
      "image/png": "[encoded data removed]",
      "text/plain": [
       "<Figure size 640x480 with 1 Axes>"
      ]
     },
     "metadata": {},
     "output_type": "display_data"
    }
   ],
   "source": [
    "sns.countplot(x = 'dx', data = tabular_data)\n",
    "plt.xlabel('Disease', size=12)\n",
    "plt.ylabel('Frequency', size=12)\n",
    "plt.title('Frequency Distribution of Classes', size=16)\n",
    "plt.show()"
   ]
  },
  {
   "cell_type": "code",
   "execution_count": 7,
   "id": "4f0a2d4d-2326-46db-aae9-20144bdcf1bf",
   "metadata": {},
   "outputs": [
    {
     "data": {
      "image/png": "[encoded data removed]",
      "text/plain": [
       "<Figure size 1000x1000 with 1 Axes>"
      ]
     },
     "metadata": {},
     "output_type": "display_data"
    }
   ],
   "source": [
    "bar, ax = plt.subplots(figsize = (10,10))\n",
    "plt.pie(tabular_data['sex'].value_counts(), labels = tabular_data['sex'].value_counts().index, autopct=\"%.1f%%\")\n",
    "plt.title('Gender of Patient', size=16)\n",
    "plt.show()"
   ]
  },
  {
   "cell_type": "code",
   "execution_count": 9,
   "id": "1236a931-88ef-4b1f-9e76-accd7ae19d88",
   "metadata": {},
   "outputs": [],
   "source": [
    "classes={0:('akiec', 'actinic keratoses and intraepithelial carcinomae'),\n",
    "         1:('bcc' , 'basal cell carcinoma'),\n",
    "         2:('bkl', 'benign keratosis-like lesions'),\n",
    "         3:('df', 'dermatofibroma'),\n",
    "         4:('nv', ' melanocytic nevi'),\n",
    "         5:('vasc', ' pyogenic granulomas and hemorrhage'),\n",
    "         6:('mel', 'melanoma'),}"
   ]
  },
  {
   "cell_type": "code",
   "execution_count": 10,
   "id": "24daa110-1445-40f3-be8f-f77b9f256d16",
   "metadata": {},
   "outputs": [],
   "source": [
    "y_train=train_set['label']\n",
    "x_train=train_set.drop(columns=['label'])\n",
    "y_test=test_set['label']\n",
    "x_test=test_set.drop(columns=['label'])\n",
    "\n",
    "columns=list(x_train)"
   ]
  },
  {
   "cell_type": "code",
   "execution_count": 12,
   "id": "22ddc04e-e3f5-4c4d-a62a-98f010db751e",
   "metadata": {},
   "outputs": [
    {
     "name": "stdout",
     "output_type": "stream",
     "text": [
      "cpu\n"
     ]
    }
   ],
   "source": [
    "import torch\n",
    "device = torch.device(\"cuda:0\" if torch.cuda.is_available() else \"cpu\")\n",
    "print(device)"
   ]
  },
  {
   "cell_type": "code",
   "execution_count": 13,
   "id": "17786da9-0584-4f20-bbea-f224e0f42e0c",
   "metadata": {},
   "outputs": [
    {
     "data": {
      "text/plain": [
       "<Axes: ylabel='count'>"
      ]
     },
     "execution_count": 13,
     "metadata": {},
     "output_type": "execute_result"
    },
    {
     "data": {
      "image/png": "[encoded data removed]",
      "text/plain": [
       "<Figure size 640x480 with 1 Axes>"
      ]
     },
     "metadata": {},
     "output_type": "display_data"
    }
   ],
   "source": [
    "import seaborn as sns\n",
    "\n",
    "sns.countplot(train_set['label'])"
   ]
  },
  {
   "cell_type": "code",
   "execution_count": 15,
   "id": "0edbed3f-7b92-49f5-a0db-e298c9b352e2",
   "metadata": {},
   "outputs": [],
   "source": [
    "from imblearn.over_sampling import RandomOverSampler \n",
    "oversample = RandomOverSampler()\n",
    "x_train,y_train  = oversample.fit_resample(x_train,y_train)"
   ]
  },
  {
   "cell_type": "code",
   "execution_count": 16,
   "id": "d3710ab6-3056-47e2-896f-ef391c6e296d",
   "metadata": {},
   "outputs": [
    {
     "data": {
      "text/plain": [
       "<Axes: ylabel='count'>"
      ]
     },
     "execution_count": 16,
     "metadata": {},
     "output_type": "execute_result"
    },
    {
     "data": {
      "image/png": "[encoded data removed]",
      "text/plain": [
       "<Figure size 640x480 with 1 Axes>"
      ]
     },
     "metadata": {},
     "output_type": "display_data"
    }
   ],
   "source": [
    "sns.countplot(y_train)"
   ]
  },
  {
   "cell_type": "code",
   "execution_count": 17,
   "id": "b01a6c41-5bfa-450b-90e7-f681014ee8c5",
   "metadata": {},
   "outputs": [
    {
     "data": {
      "image/png": "[encoded data removed]",
      "text/plain": [
       "<Figure size 640x480 with 1 Axes>"
      ]
     },
     "metadata": {},
     "output_type": "display_data"
    },
    {
     "data": {
      "image/png": "[encoded data removed]",
      "text/plain": [
       "<Figure size 640x480 with 1 Axes>"
      ]
     },
     "metadata": {},
     "output_type": "display_data"
    },
    {
     "data": {
      "image/png": "[encoded data removed]",
      "text/plain": [
       "<Figure size 640x480 with 1 Axes>"
      ]
     },
     "metadata": {},
     "output_type": "display_data"
    }
   ],
   "source": [
    "import matplotlib.pyplot as plt\n",
    "import random\n",
    "num=random.randint(0,8000)\n",
    "x_train=np.array(x_train, dtype=np.uint8).reshape(-1,28,28,3)\n",
    "\n",
    "plt.imshow(x_train[num].reshape(28,28,3))\n",
    "plt.title(\"Random image from training data\")\n",
    "plt.show()\n",
    "num=random.randint(0,8000)\n",
    "plt.imshow(x_train[num].reshape(28,28,3))\n",
    "plt.title(\"Random image from training data\")\n",
    "plt.show()\n",
    "\n",
    "num=random.randint(0,8000)\n",
    "plt.imshow(x_train[num].reshape(28,28,3))\n",
    "plt.title(\"Random image from training data\")\n",
    "plt.show()"
   ]
  },
  {
   "cell_type": "markdown",
   "id": "c3894741-2561-46c0-b5ef-4a91d90bca74",
   "metadata": {},
   "source": [
    "## Model Building (CNN)"
   ]
  },
  {
   "cell_type": "code",
   "execution_count": 18,
   "id": "429adde7-714c-4311-af9a-c42d265b72eb",
   "metadata": {},
   "outputs": [],
   "source": [
    "from tensorflow.keras.models import Sequential\n",
    "from tensorflow.keras.layers import Conv2D, Flatten, Dense, MaxPool2D\n",
    "import tensorflow as tf"
   ]
  },
  {
   "cell_type": "code",
   "execution_count": 19,
   "id": "119910e3-e2e9-49b4-97fb-817773915ad3",
   "metadata": {},
   "outputs": [
    {
     "name": "stdout",
     "output_type": "stream",
     "text": [
      "CPU times: total: 0 ns\n",
      "Wall time: 0 ns\n",
      "Model: \"sequential\"\n",
      "_________________________________________________________________\n",
      " Layer (type)                Output Shape              Param #   \n",
      "=================================================================\n",
      " conv2d (Conv2D)             (None, 28, 28, 16)        448       \n",
      "                                                                 \n",
      " max_pooling2d (MaxPooling2  (None, 14, 14, 16)        0         \n",
      " D)                                                              \n",
      "                                                                 \n",
      " batch_normalization (Batch  (None, 14, 14, 16)        64        \n",
      " Normalization)                                                  \n",
      "                                                                 \n",
      " conv2d_1 (Conv2D)           (None, 12, 12, 32)        4640      \n",
      "                                                                 \n",
      " conv2d_2 (Conv2D)           (None, 10, 10, 64)        18496     \n",
      "                                                                 \n",
      " max_pooling2d_1 (MaxPoolin  (None, 5, 5, 64)          0         \n",
      " g2D)                                                            \n",
      "                                                                 \n",
      " batch_normalization_1 (Bat  (None, 5, 5, 64)          256       \n",
      " chNormalization)                                                \n",
      "                                                                 \n",
      " conv2d_3 (Conv2D)           (None, 3, 3, 128)         73856     \n",
      "                                                                 \n",
      " conv2d_4 (Conv2D)           (None, 1, 1, 256)         295168    \n",
      "                                                                 \n",
      " flatten (Flatten)           (None, 256)               0         \n",
      "                                                                 \n",
      " dropout (Dropout)           (None, 256)               0         \n",
      "                                                                 \n",
      " dense (Dense)               (None, 256)               65792     \n",
      "                                                                 \n",
      " batch_normalization_2 (Bat  (None, 256)               1024      \n",
      " chNormalization)                                                \n",
      "                                                                 \n",
      " dropout_1 (Dropout)         (None, 256)               0         \n",
      "                                                                 \n",
      " dense_1 (Dense)             (None, 128)               32896     \n",
      "                                                                 \n",
      " batch_normalization_3 (Bat  (None, 128)               512       \n",
      " chNormalization)                                                \n",
      "                                                                 \n",
      " dense_2 (Dense)             (None, 64)                8256      \n",
      "                                                                 \n",
      " batch_normalization_4 (Bat  (None, 64)                256       \n",
      " chNormalization)                                                \n",
      "                                                                 \n",
      " dropout_2 (Dropout)         (None, 64)                0         \n",
      "                                                                 \n",
      " dense_3 (Dense)             (None, 32)                2080      \n",
      "                                                                 \n",
      " batch_normalization_5 (Bat  (None, 32)                128       \n",
      " chNormalization)                                                \n",
      "                                                                 \n",
      " dense_4 (Dense)             (None, 7)                 231       \n",
      "                                                                 \n",
      "=================================================================\n",
      "Total params: 504103 (1.92 MB)\n",
      "Trainable params: 502983 (1.92 MB)\n",
      "Non-trainable params: 1120 (4.38 KB)\n",
      "_________________________________________________________________\n"
     ]
    }
   ],
   "source": [
    "%time \n",
    "\n",
    "model = Sequential()\n",
    "model.add(Conv2D(16, kernel_size = (3,3), input_shape = (28, 28, 3),\n",
    "                 activation = 'relu', padding = 'same'))\n",
    "model.add(MaxPool2D(pool_size = (2,2)))\n",
    "model.add(tf.keras.layers.BatchNormalization())\n",
    "\n",
    "model.add(Conv2D(32, kernel_size = (3,3), activation = 'relu'))\n",
    "model.add(Conv2D(64, kernel_size = (3,3), activation = 'relu'))\n",
    "\n",
    "model.add(MaxPool2D(pool_size = (2,2)))\n",
    "\n",
    "model.add(tf.keras.layers.BatchNormalization())\n",
    "\n",
    "model.add(Conv2D(128, kernel_size = (3,3), activation = 'relu'))\n",
    "model.add(Conv2D(256, kernel_size = (3,3), activation = 'relu'))\n",
    "\n",
    "model.add(Flatten())\n",
    "model.add(tf.keras.layers.Dropout(0.2))\n",
    "model.add(Dense(256,activation='relu'))\n",
    "\n",
    "model.add(tf.keras.layers.BatchNormalization())\n",
    "model.add(tf.keras.layers.Dropout(0.2))\n",
    "model.add(Dense(128,activation='relu'))\n",
    "\n",
    "model.add(tf.keras.layers.BatchNormalization())\n",
    "model.add(Dense(64,activation='relu'))\n",
    "\n",
    "model.add(tf.keras.layers.BatchNormalization())\n",
    "model.add(tf.keras.layers.Dropout(0.2))\n",
    "model.add(Dense(32,activation='relu'))\n",
    "\n",
    "model.add(tf.keras.layers.BatchNormalization())\n",
    "model.add(Dense(7,activation='softmax'))\n",
    "\n",
    "model.summary()"
   ]
  },
  {
   "cell_type": "markdown",
   "id": "c21959c9-0437-4e6d-90b9-af17a2aea397",
   "metadata": {},
   "source": [
    "# Setting Optimizer"
   ]
  },
  {
   "cell_type": "code",
   "execution_count": 20,
   "id": "da1b1ce9-2baf-4d2a-b566-f0b47df27d54",
   "metadata": {},
   "outputs": [],
   "source": [
    "callback = tf.keras.callbacks.ModelCheckpoint(filepath='best_model.h5',\n",
    "                                              monitor='val_acc', \n",
    "                                              mode='max',\n",
    "                                              verbose=1, \n",
    "                                              save_best_only=True)"
   ]
  },
  {
   "cell_type": "code",
   "execution_count": 21,
   "id": "d36f4e78-e6b3-4415-82b9-35986a25a366",
   "metadata": {},
   "outputs": [
    {
     "name": "stderr",
     "output_type": "stream",
     "text": [
      "WARNING:absl:`lr` is deprecated in Keras optimizer, please use `learning_rate` or use the legacy optimizer, e.g.,tf.keras.optimizers.legacy.Adam.\n"
     ]
    },
    {
     "name": "stdout",
     "output_type": "stream",
     "text": [
      "CPU times: total: 0 ns\n",
      "Wall time: 0 ns\n"
     ]
    }
   ],
   "source": [
    "%time \n",
    "optimizer=tf.keras.optimizers.Adam(lr=0.001)\n",
    "\n",
    "model.compile(loss = 'sparse_categorical_crossentropy',\n",
    "              optimizer =optimizer,\n",
    "              metrics = ['accuracy'])"
   ]
  },
  {
   "cell_type": "markdown",
   "id": "4459e97b-39df-4dd1-8f3d-b9a9e0d27438",
   "metadata": {},
   "source": [
    "# Fitting the model"
   ]
  },
  {
   "cell_type": "code",
   "execution_count": 22,
   "id": "22c39965-f535-4e50-9e9d-5bd1f8c49490",
   "metadata": {
    "scrolled": true
   },
   "outputs": [
    {
     "name": "stdout",
     "output_type": "stream",
     "text": [
      "Epoch 1/100\n",
      "236/236 [==============================] - ETA: 0s - loss: 1.1127 - accuracy: 0.6073WARNING:tensorflow:Can save best model only with val_acc available, skipping.\n"
     ]
    },
    {
     "name": "stderr",
     "output_type": "stream",
     "text": [
      "WARNING:tensorflow:Can save best model only with val_acc available, skipping.\n"
     ]
    },
    {
     "name": "stdout",
     "output_type": "stream",
     "text": [
      "236/236 [==============================] - 26s 90ms/step - loss: 1.1127 - accuracy: 0.6073 - val_loss: 2.8413 - val_accuracy: 0.1308\n",
      "Epoch 2/100\n",
      "236/236 [==============================] - ETA: 0s - loss: 0.3739 - accuracy: 0.8771WARNING:tensorflow:Can save best model only with val_acc available, skipping.\n"
     ]
    },
    {
     "name": "stderr",
     "output_type": "stream",
     "text": [
      "WARNING:tensorflow:Can save best model only with val_acc available, skipping.\n"
     ]
    },
    {
     "name": "stdout",
     "output_type": "stream",
     "text": [
      "236/236 [==============================] - 27s 113ms/step - loss: 0.3739 - accuracy: 0.8771 - val_loss: 1.6157 - val_accuracy: 0.3872\n",
      "Epoch 3/100\n",
      "236/236 [==============================] - ETA: 0s - loss: 0.2512 - accuracy: 0.9156WARNING:tensorflow:Can save best model only with val_acc available, skipping.\n"
     ]
    },
    {
     "name": "stderr",
     "output_type": "stream",
     "text": [
      "WARNING:tensorflow:Can save best model only with val_acc available, skipping.\n"
     ]
    },
    {
     "name": "stdout",
     "output_type": "stream",
     "text": [
      "236/236 [==============================] - 27s 115ms/step - loss: 0.2512 - accuracy: 0.9156 - val_loss: 0.9953 - val_accuracy: 0.5835\n",
      "Epoch 4/100\n",
      "236/236 [==============================] - ETA: 0s - loss: 0.1905 - accuracy: 0.9359WARNING:tensorflow:Can save best model only with val_acc available, skipping.\n"
     ]
    },
    {
     "name": "stderr",
     "output_type": "stream",
     "text": [
      "WARNING:tensorflow:Can save best model only with val_acc available, skipping.\n"
     ]
    },
    {
     "name": "stdout",
     "output_type": "stream",
     "text": [
      "236/236 [==============================] - 23s 96ms/step - loss: 0.1905 - accuracy: 0.9359 - val_loss: 1.0973 - val_accuracy: 0.6392\n",
      "Epoch 5/100\n",
      "236/236 [==============================] - ETA: 0s - loss: 0.1628 - accuracy: 0.9454WARNING:tensorflow:Can save best model only with val_acc available, skipping.\n"
     ]
    },
    {
     "name": "stderr",
     "output_type": "stream",
     "text": [
      "WARNING:tensorflow:Can save best model only with val_acc available, skipping.\n"
     ]
    },
    {
     "name": "stdout",
     "output_type": "stream",
     "text": [
      "236/236 [==============================] - 26s 112ms/step - loss: 0.1628 - accuracy: 0.9454 - val_loss: 1.5180 - val_accuracy: 0.3504\n",
      "Epoch 6/100\n",
      "236/236 [==============================] - ETA: 0s - loss: 0.1369 - accuracy: 0.9534WARNING:tensorflow:Can save best model only with val_acc available, skipping.\n"
     ]
    },
    {
     "name": "stderr",
     "output_type": "stream",
     "text": [
      "WARNING:tensorflow:Can save best model only with val_acc available, skipping.\n"
     ]
    },
    {
     "name": "stdout",
     "output_type": "stream",
     "text": [
      "236/236 [==============================] - 26s 110ms/step - loss: 0.1369 - accuracy: 0.9534 - val_loss: 1.0129 - val_accuracy: 0.5696\n",
      "Epoch 7/100\n",
      "236/236 [==============================] - ETA: 0s - loss: 0.1113 - accuracy: 0.9617WARNING:tensorflow:Can save best model only with val_acc available, skipping.\n"
     ]
    },
    {
     "name": "stderr",
     "output_type": "stream",
     "text": [
      "WARNING:tensorflow:Can save best model only with val_acc available, skipping.\n"
     ]
    },
    {
     "name": "stdout",
     "output_type": "stream",
     "text": [
      "236/236 [==============================] - 23s 95ms/step - loss: 0.1113 - accuracy: 0.9617 - val_loss: 0.5686 - val_accuracy: 0.7226\n",
      "Epoch 8/100\n",
      "236/236 [==============================] - ETA: 0s - loss: 0.1080 - accuracy: 0.9634WARNING:tensorflow:Can save best model only with val_acc available, skipping.\n"
     ]
    },
    {
     "name": "stderr",
     "output_type": "stream",
     "text": [
      "WARNING:tensorflow:Can save best model only with val_acc available, skipping.\n"
     ]
    },
    {
     "name": "stdout",
     "output_type": "stream",
     "text": [
      "236/236 [==============================] - 22s 92ms/step - loss: 0.1080 - accuracy: 0.9634 - val_loss: 0.7320 - val_accuracy: 0.7035\n",
      "Epoch 9/100\n",
      "236/236 [==============================] - ETA: 0s - loss: 0.0930 - accuracy: 0.9678WARNING:tensorflow:Can save best model only with val_acc available, skipping.\n"
     ]
    },
    {
     "name": "stderr",
     "output_type": "stream",
     "text": [
      "WARNING:tensorflow:Can save best model only with val_acc available, skipping.\n"
     ]
    },
    {
     "name": "stdout",
     "output_type": "stream",
     "text": [
      "236/236 [==============================] - 21s 88ms/step - loss: 0.0930 - accuracy: 0.9678 - val_loss: 0.5387 - val_accuracy: 0.8349\n",
      "Epoch 10/100\n",
      "236/236 [==============================] - ETA: 0s - loss: 0.0939 - accuracy: 0.9664WARNING:tensorflow:Can save best model only with val_acc available, skipping.\n"
     ]
    },
    {
     "name": "stderr",
     "output_type": "stream",
     "text": [
      "WARNING:tensorflow:Can save best model only with val_acc available, skipping.\n"
     ]
    },
    {
     "name": "stdout",
     "output_type": "stream",
     "text": [
      "236/236 [==============================] - 20s 86ms/step - loss: 0.0939 - accuracy: 0.9664 - val_loss: 0.5687 - val_accuracy: 0.6923\n",
      "Epoch 11/100\n",
      "236/236 [==============================] - ETA: 0s - loss: 0.0706 - accuracy: 0.9768WARNING:tensorflow:Can save best model only with val_acc available, skipping.\n"
     ]
    },
    {
     "name": "stderr",
     "output_type": "stream",
     "text": [
      "WARNING:tensorflow:Can save best model only with val_acc available, skipping.\n"
     ]
    },
    {
     "name": "stdout",
     "output_type": "stream",
     "text": [
      "236/236 [==============================] - 20s 86ms/step - loss: 0.0706 - accuracy: 0.9768 - val_loss: 0.8011 - val_accuracy: 0.6204\n",
      "Epoch 12/100\n",
      "236/236 [==============================] - ETA: 0s - loss: 0.0759 - accuracy: 0.9733WARNING:tensorflow:Can save best model only with val_acc available, skipping.\n"
     ]
    },
    {
     "name": "stderr",
     "output_type": "stream",
     "text": [
      "WARNING:tensorflow:Can save best model only with val_acc available, skipping.\n"
     ]
    },
    {
     "name": "stdout",
     "output_type": "stream",
     "text": [
      "236/236 [==============================] - 24s 102ms/step - loss: 0.0759 - accuracy: 0.9733 - val_loss: 0.9132 - val_accuracy: 0.6756\n",
      "Epoch 13/100\n",
      "236/236 [==============================] - ETA: 0s - loss: 0.0695 - accuracy: 0.9747WARNING:tensorflow:Can save best model only with val_acc available, skipping.\n"
     ]
    },
    {
     "name": "stderr",
     "output_type": "stream",
     "text": [
      "WARNING:tensorflow:Can save best model only with val_acc available, skipping.\n"
     ]
    },
    {
     "name": "stdout",
     "output_type": "stream",
     "text": [
      "236/236 [==============================] - 26s 111ms/step - loss: 0.0695 - accuracy: 0.9747 - val_loss: 0.3590 - val_accuracy: 0.8623\n",
      "Epoch 14/100\n",
      "236/236 [==============================] - ETA: 0s - loss: 0.0484 - accuracy: 0.9831WARNING:tensorflow:Can save best model only with val_acc available, skipping.\n"
     ]
    },
    {
     "name": "stderr",
     "output_type": "stream",
     "text": [
      "WARNING:tensorflow:Can save best model only with val_acc available, skipping.\n"
     ]
    },
    {
     "name": "stdout",
     "output_type": "stream",
     "text": [
      "236/236 [==============================] - 26s 112ms/step - loss: 0.0484 - accuracy: 0.9831 - val_loss: 1.2624 - val_accuracy: 0.5795\n",
      "Epoch 15/100\n",
      "236/236 [==============================] - ETA: 0s - loss: 0.0593 - accuracy: 0.9801WARNING:tensorflow:Can save best model only with val_acc available, skipping.\n"
     ]
    },
    {
     "name": "stderr",
     "output_type": "stream",
     "text": [
      "WARNING:tensorflow:Can save best model only with val_acc available, skipping.\n"
     ]
    },
    {
     "name": "stdout",
     "output_type": "stream",
     "text": [
      "236/236 [==============================] - 26s 110ms/step - loss: 0.0593 - accuracy: 0.9801 - val_loss: 0.2915 - val_accuracy: 0.8772\n",
      "Epoch 16/100\n",
      "236/236 [==============================] - ETA: 0s - loss: 0.0493 - accuracy: 0.9835WARNING:tensorflow:Can save best model only with val_acc available, skipping.\n"
     ]
    },
    {
     "name": "stderr",
     "output_type": "stream",
     "text": [
      "WARNING:tensorflow:Can save best model only with val_acc available, skipping.\n"
     ]
    },
    {
     "name": "stdout",
     "output_type": "stream",
     "text": [
      "236/236 [==============================] - 26s 110ms/step - loss: 0.0493 - accuracy: 0.9835 - val_loss: 1.1510 - val_accuracy: 0.6283\n",
      "Epoch 17/100\n",
      "236/236 [==============================] - ETA: 0s - loss: 0.0626 - accuracy: 0.9793WARNING:tensorflow:Can save best model only with val_acc available, skipping.\n"
     ]
    },
    {
     "name": "stderr",
     "output_type": "stream",
     "text": [
      "WARNING:tensorflow:Can save best model only with val_acc available, skipping.\n"
     ]
    },
    {
     "name": "stdout",
     "output_type": "stream",
     "text": [
      "236/236 [==============================] - 26s 109ms/step - loss: 0.0626 - accuracy: 0.9793 - val_loss: 0.4204 - val_accuracy: 0.8171\n",
      "Epoch 18/100\n",
      "236/236 [==============================] - ETA: 0s - loss: 0.0437 - accuracy: 0.9855WARNING:tensorflow:Can save best model only with val_acc available, skipping.\n"
     ]
    },
    {
     "name": "stderr",
     "output_type": "stream",
     "text": [
      "WARNING:tensorflow:Can save best model only with val_acc available, skipping.\n"
     ]
    },
    {
     "name": "stdout",
     "output_type": "stream",
     "text": [
      "236/236 [==============================] - 26s 111ms/step - loss: 0.0437 - accuracy: 0.9855 - val_loss: 0.3405 - val_accuracy: 0.8632\n",
      "Epoch 19/100\n",
      "236/236 [==============================] - ETA: 0s - loss: 0.0306 - accuracy: 0.9896WARNING:tensorflow:Can save best model only with val_acc available, skipping.\n"
     ]
    },
    {
     "name": "stderr",
     "output_type": "stream",
     "text": [
      "WARNING:tensorflow:Can save best model only with val_acc available, skipping.\n"
     ]
    },
    {
     "name": "stdout",
     "output_type": "stream",
     "text": [
      "236/236 [==============================] - 26s 109ms/step - loss: 0.0306 - accuracy: 0.9896 - val_loss: 0.2008 - val_accuracy: 0.9284\n",
      "Epoch 20/100\n",
      "236/236 [==============================] - ETA: 0s - loss: 0.0417 - accuracy: 0.9864WARNING:tensorflow:Can save best model only with val_acc available, skipping.\n"
     ]
    },
    {
     "name": "stderr",
     "output_type": "stream",
     "text": [
      "WARNING:tensorflow:Can save best model only with val_acc available, skipping.\n"
     ]
    },
    {
     "name": "stdout",
     "output_type": "stream",
     "text": [
      "236/236 [==============================] - 23s 98ms/step - loss: 0.0417 - accuracy: 0.9864 - val_loss: 0.3250 - val_accuracy: 0.8945\n",
      "Epoch 21/100\n",
      "236/236 [==============================] - ETA: 0s - loss: 0.0453 - accuracy: 0.9843WARNING:tensorflow:Can save best model only with val_acc available, skipping.\n"
     ]
    },
    {
     "name": "stderr",
     "output_type": "stream",
     "text": [
      "WARNING:tensorflow:Can save best model only with val_acc available, skipping.\n"
     ]
    },
    {
     "name": "stdout",
     "output_type": "stream",
     "text": [
      "236/236 [==============================] - 24s 103ms/step - loss: 0.0453 - accuracy: 0.9843 - val_loss: 0.3210 - val_accuracy: 0.8802\n",
      "Epoch 22/100\n",
      "236/236 [==============================] - ETA: 0s - loss: 0.0370 - accuracy: 0.9877WARNING:tensorflow:Can save best model only with val_acc available, skipping.\n"
     ]
    },
    {
     "name": "stderr",
     "output_type": "stream",
     "text": [
      "WARNING:tensorflow:Can save best model only with val_acc available, skipping.\n"
     ]
    },
    {
     "name": "stdout",
     "output_type": "stream",
     "text": [
      "236/236 [==============================] - 24s 102ms/step - loss: 0.0370 - accuracy: 0.9877 - val_loss: 0.0826 - val_accuracy: 0.9744\n",
      "Epoch 23/100\n",
      "236/236 [==============================] - ETA: 0s - loss: 0.0412 - accuracy: 0.9862WARNING:tensorflow:Can save best model only with val_acc available, skipping.\n"
     ]
    },
    {
     "name": "stderr",
     "output_type": "stream",
     "text": [
      "WARNING:tensorflow:Can save best model only with val_acc available, skipping.\n"
     ]
    },
    {
     "name": "stdout",
     "output_type": "stream",
     "text": [
      "236/236 [==============================] - 23s 97ms/step - loss: 0.0412 - accuracy: 0.9862 - val_loss: 0.7632 - val_accuracy: 0.7473\n",
      "Epoch 24/100\n",
      "236/236 [==============================] - ETA: 0s - loss: 0.0251 - accuracy: 0.9914WARNING:tensorflow:Can save best model only with val_acc available, skipping.\n"
     ]
    },
    {
     "name": "stderr",
     "output_type": "stream",
     "text": [
      "WARNING:tensorflow:Can save best model only with val_acc available, skipping.\n"
     ]
    },
    {
     "name": "stdout",
     "output_type": "stream",
     "text": [
      "236/236 [==============================] - 21s 89ms/step - loss: 0.0251 - accuracy: 0.9914 - val_loss: 0.2867 - val_accuracy: 0.8993\n",
      "Epoch 25/100\n",
      "236/236 [==============================] - ETA: 0s - loss: 0.0217 - accuracy: 0.9929WARNING:tensorflow:Can save best model only with val_acc available, skipping.\n"
     ]
    },
    {
     "name": "stderr",
     "output_type": "stream",
     "text": [
      "WARNING:tensorflow:Can save best model only with val_acc available, skipping.\n"
     ]
    },
    {
     "name": "stdout",
     "output_type": "stream",
     "text": [
      "236/236 [==============================] - 21s 89ms/step - loss: 0.0217 - accuracy: 0.9929 - val_loss: 0.2916 - val_accuracy: 0.9342\n",
      "Epoch 26/100\n",
      "236/236 [==============================] - ETA: 0s - loss: 0.0316 - accuracy: 0.9903WARNING:tensorflow:Can save best model only with val_acc available, skipping.\n"
     ]
    },
    {
     "name": "stderr",
     "output_type": "stream",
     "text": [
      "WARNING:tensorflow:Can save best model only with val_acc available, skipping.\n"
     ]
    },
    {
     "name": "stdout",
     "output_type": "stream",
     "text": [
      "236/236 [==============================] - 21s 87ms/step - loss: 0.0316 - accuracy: 0.9903 - val_loss: 0.3184 - val_accuracy: 0.9048\n",
      "Epoch 27/100\n",
      "236/236 [==============================] - ETA: 0s - loss: 0.0330 - accuracy: 0.9888WARNING:tensorflow:Can save best model only with val_acc available, skipping.\n"
     ]
    },
    {
     "name": "stderr",
     "output_type": "stream",
     "text": [
      "WARNING:tensorflow:Can save best model only with val_acc available, skipping.\n"
     ]
    },
    {
     "name": "stdout",
     "output_type": "stream",
     "text": [
      "236/236 [==============================] - 20s 86ms/step - loss: 0.0330 - accuracy: 0.9888 - val_loss: 0.2628 - val_accuracy: 0.9355\n",
      "Epoch 28/100\n",
      "236/236 [==============================] - ETA: 0s - loss: 0.0292 - accuracy: 0.9904WARNING:tensorflow:Can save best model only with val_acc available, skipping.\n"
     ]
    },
    {
     "name": "stderr",
     "output_type": "stream",
     "text": [
      "WARNING:tensorflow:Can save best model only with val_acc available, skipping.\n"
     ]
    },
    {
     "name": "stdout",
     "output_type": "stream",
     "text": [
      "236/236 [==============================] - 20s 86ms/step - loss: 0.0292 - accuracy: 0.9904 - val_loss: 0.4777 - val_accuracy: 0.8322\n",
      "Epoch 29/100\n",
      "236/236 [==============================] - ETA: 0s - loss: 0.0192 - accuracy: 0.9936WARNING:tensorflow:Can save best model only with val_acc available, skipping.\n"
     ]
    },
    {
     "name": "stderr",
     "output_type": "stream",
     "text": [
      "WARNING:tensorflow:Can save best model only with val_acc available, skipping.\n"
     ]
    },
    {
     "name": "stdout",
     "output_type": "stream",
     "text": [
      "236/236 [==============================] - 20s 86ms/step - loss: 0.0192 - accuracy: 0.9936 - val_loss: 0.4498 - val_accuracy: 0.8256\n",
      "Epoch 30/100\n",
      "236/236 [==============================] - ETA: 0s - loss: 0.0172 - accuracy: 0.9947WARNING:tensorflow:Can save best model only with val_acc available, skipping.\n"
     ]
    },
    {
     "name": "stderr",
     "output_type": "stream",
     "text": [
      "WARNING:tensorflow:Can save best model only with val_acc available, skipping.\n"
     ]
    },
    {
     "name": "stdout",
     "output_type": "stream",
     "text": [
      "236/236 [==============================] - 21s 88ms/step - loss: 0.0172 - accuracy: 0.9947 - val_loss: 0.1707 - val_accuracy: 0.9424\n",
      "Epoch 31/100\n",
      "236/236 [==============================] - ETA: 0s - loss: 0.0289 - accuracy: 0.9909WARNING:tensorflow:Can save best model only with val_acc available, skipping.\n"
     ]
    },
    {
     "name": "stderr",
     "output_type": "stream",
     "text": [
      "WARNING:tensorflow:Can save best model only with val_acc available, skipping.\n"
     ]
    },
    {
     "name": "stdout",
     "output_type": "stream",
     "text": [
      "236/236 [==============================] - 26s 112ms/step - loss: 0.0289 - accuracy: 0.9909 - val_loss: 0.3148 - val_accuracy: 0.9010\n",
      "Epoch 32/100\n",
      "236/236 [==============================] - ETA: 0s - loss: 0.0183 - accuracy: 0.9941WARNING:tensorflow:Can save best model only with val_acc available, skipping.\n"
     ]
    },
    {
     "name": "stderr",
     "output_type": "stream",
     "text": [
      "WARNING:tensorflow:Can save best model only with val_acc available, skipping.\n"
     ]
    },
    {
     "name": "stdout",
     "output_type": "stream",
     "text": [
      "236/236 [==============================] - 26s 108ms/step - loss: 0.0183 - accuracy: 0.9941 - val_loss: 0.2841 - val_accuracy: 0.9194\n",
      "Epoch 33/100\n",
      "236/236 [==============================] - ETA: 0s - loss: 0.0199 - accuracy: 0.9934WARNING:tensorflow:Can save best model only with val_acc available, skipping.\n"
     ]
    },
    {
     "name": "stderr",
     "output_type": "stream",
     "text": [
      "WARNING:tensorflow:Can save best model only with val_acc available, skipping.\n"
     ]
    },
    {
     "name": "stdout",
     "output_type": "stream",
     "text": [
      "236/236 [==============================] - 25s 107ms/step - loss: 0.0199 - accuracy: 0.9934 - val_loss: 0.2031 - val_accuracy: 0.9347\n",
      "Epoch 34/100\n",
      "236/236 [==============================] - ETA: 0s - loss: 0.0219 - accuracy: 0.9928WARNING:tensorflow:Can save best model only with val_acc available, skipping.\n"
     ]
    },
    {
     "name": "stderr",
     "output_type": "stream",
     "text": [
      "WARNING:tensorflow:Can save best model only with val_acc available, skipping.\n"
     ]
    },
    {
     "name": "stdout",
     "output_type": "stream",
     "text": [
      "236/236 [==============================] - 21s 87ms/step - loss: 0.0219 - accuracy: 0.9928 - val_loss: 0.2760 - val_accuracy: 0.9093\n",
      "Epoch 35/100\n",
      "236/236 [==============================] - ETA: 0s - loss: 0.0111 - accuracy: 0.9964WARNING:tensorflow:Can save best model only with val_acc available, skipping.\n"
     ]
    },
    {
     "name": "stderr",
     "output_type": "stream",
     "text": [
      "WARNING:tensorflow:Can save best model only with val_acc available, skipping.\n"
     ]
    },
    {
     "name": "stdout",
     "output_type": "stream",
     "text": [
      "236/236 [==============================] - 24s 104ms/step - loss: 0.0111 - accuracy: 0.9964 - val_loss: 0.1207 - val_accuracy: 0.9647\n",
      "Epoch 36/100\n",
      "236/236 [==============================] - ETA: 0s - loss: 0.0230 - accuracy: 0.9929WARNING:tensorflow:Can save best model only with val_acc available, skipping.\n"
     ]
    },
    {
     "name": "stderr",
     "output_type": "stream",
     "text": [
      "WARNING:tensorflow:Can save best model only with val_acc available, skipping.\n"
     ]
    },
    {
     "name": "stdout",
     "output_type": "stream",
     "text": [
      "236/236 [==============================] - 24s 100ms/step - loss: 0.0230 - accuracy: 0.9929 - val_loss: 0.3573 - val_accuracy: 0.8903\n",
      "Epoch 37/100\n",
      "236/236 [==============================] - ETA: 0s - loss: 0.0157 - accuracy: 0.9950WARNING:tensorflow:Can save best model only with val_acc available, skipping.\n"
     ]
    },
    {
     "name": "stderr",
     "output_type": "stream",
     "text": [
      "WARNING:tensorflow:Can save best model only with val_acc available, skipping.\n"
     ]
    },
    {
     "name": "stdout",
     "output_type": "stream",
     "text": [
      "236/236 [==============================] - 24s 103ms/step - loss: 0.0157 - accuracy: 0.9950 - val_loss: 0.4709 - val_accuracy: 0.8475\n",
      "Epoch 38/100\n",
      "236/236 [==============================] - ETA: 0s - loss: 0.0274 - accuracy: 0.9909WARNING:tensorflow:Can save best model only with val_acc available, skipping.\n"
     ]
    },
    {
     "name": "stderr",
     "output_type": "stream",
     "text": [
      "WARNING:tensorflow:Can save best model only with val_acc available, skipping.\n"
     ]
    },
    {
     "name": "stdout",
     "output_type": "stream",
     "text": [
      "236/236 [==============================] - 25s 105ms/step - loss: 0.0274 - accuracy: 0.9909 - val_loss: 0.6090 - val_accuracy: 0.8097\n",
      "Epoch 39/100\n",
      "236/236 [==============================] - ETA: 0s - loss: 0.0097 - accuracy: 0.9967WARNING:tensorflow:Can save best model only with val_acc available, skipping.\n"
     ]
    },
    {
     "name": "stderr",
     "output_type": "stream",
     "text": [
      "WARNING:tensorflow:Can save best model only with val_acc available, skipping.\n"
     ]
    },
    {
     "name": "stdout",
     "output_type": "stream",
     "text": [
      "236/236 [==============================] - 24s 100ms/step - loss: 0.0097 - accuracy: 0.9967 - val_loss: 0.2759 - val_accuracy: 0.9430\n",
      "Epoch 40/100\n",
      "236/236 [==============================] - ETA: 0s - loss: 0.0230 - accuracy: 0.9929WARNING:tensorflow:Can save best model only with val_acc available, skipping.\n"
     ]
    },
    {
     "name": "stderr",
     "output_type": "stream",
     "text": [
      "WARNING:tensorflow:Can save best model only with val_acc available, skipping.\n"
     ]
    },
    {
     "name": "stdout",
     "output_type": "stream",
     "text": [
      "236/236 [==============================] - 23s 99ms/step - loss: 0.0230 - accuracy: 0.9929 - val_loss: 0.6627 - val_accuracy: 0.7789\n",
      "Epoch 41/100\n",
      "236/236 [==============================] - ETA: 0s - loss: 0.0141 - accuracy: 0.9958WARNING:tensorflow:Can save best model only with val_acc available, skipping.\n"
     ]
    },
    {
     "name": "stderr",
     "output_type": "stream",
     "text": [
      "WARNING:tensorflow:Can save best model only with val_acc available, skipping.\n"
     ]
    },
    {
     "name": "stdout",
     "output_type": "stream",
     "text": [
      "236/236 [==============================] - 24s 100ms/step - loss: 0.0141 - accuracy: 0.9958 - val_loss: 0.1354 - val_accuracy: 0.9569\n",
      "Epoch 42/100\n",
      "236/236 [==============================] - ETA: 0s - loss: 0.0109 - accuracy: 0.9968WARNING:tensorflow:Can save best model only with val_acc available, skipping.\n"
     ]
    },
    {
     "name": "stderr",
     "output_type": "stream",
     "text": [
      "WARNING:tensorflow:Can save best model only with val_acc available, skipping.\n"
     ]
    },
    {
     "name": "stdout",
     "output_type": "stream",
     "text": [
      "236/236 [==============================] - 24s 101ms/step - loss: 0.0109 - accuracy: 0.9968 - val_loss: 0.0792 - val_accuracy: 0.9772\n",
      "Epoch 43/100\n",
      "236/236 [==============================] - ETA: 0s - loss: 0.0167 - accuracy: 0.9947WARNING:tensorflow:Can save best model only with val_acc available, skipping.\n"
     ]
    },
    {
     "name": "stderr",
     "output_type": "stream",
     "text": [
      "WARNING:tensorflow:Can save best model only with val_acc available, skipping.\n"
     ]
    },
    {
     "name": "stdout",
     "output_type": "stream",
     "text": [
      "236/236 [==============================] - 23s 96ms/step - loss: 0.0167 - accuracy: 0.9947 - val_loss: 0.3263 - val_accuracy: 0.8922\n",
      "Epoch 44/100\n",
      "236/236 [==============================] - ETA: 0s - loss: 0.0213 - accuracy: 0.9934WARNING:tensorflow:Can save best model only with val_acc available, skipping.\n"
     ]
    },
    {
     "name": "stderr",
     "output_type": "stream",
     "text": [
      "WARNING:tensorflow:Can save best model only with val_acc available, skipping.\n"
     ]
    },
    {
     "name": "stdout",
     "output_type": "stream",
     "text": [
      "236/236 [==============================] - 21s 87ms/step - loss: 0.0213 - accuracy: 0.9934 - val_loss: 0.3999 - val_accuracy: 0.8670\n",
      "Epoch 45/100\n",
      "236/236 [==============================] - ETA: 0s - loss: 0.0137 - accuracy: 0.9957WARNING:tensorflow:Can save best model only with val_acc available, skipping.\n"
     ]
    },
    {
     "name": "stderr",
     "output_type": "stream",
     "text": [
      "WARNING:tensorflow:Can save best model only with val_acc available, skipping.\n"
     ]
    },
    {
     "name": "stdout",
     "output_type": "stream",
     "text": [
      "236/236 [==============================] - 19s 81ms/step - loss: 0.0137 - accuracy: 0.9957 - val_loss: 0.1445 - val_accuracy: 0.9501\n",
      "Epoch 46/100\n",
      "236/236 [==============================] - ETA: 0s - loss: 0.0120 - accuracy: 0.9963WARNING:tensorflow:Can save best model only with val_acc available, skipping.\n"
     ]
    },
    {
     "name": "stderr",
     "output_type": "stream",
     "text": [
      "WARNING:tensorflow:Can save best model only with val_acc available, skipping.\n"
     ]
    },
    {
     "name": "stdout",
     "output_type": "stream",
     "text": [
      "236/236 [==============================] - 19s 82ms/step - loss: 0.0120 - accuracy: 0.9963 - val_loss: 0.2830 - val_accuracy: 0.9029\n",
      "Epoch 47/100\n",
      "236/236 [==============================] - ETA: 0s - loss: 0.0109 - accuracy: 0.9967WARNING:tensorflow:Can save best model only with val_acc available, skipping.\n"
     ]
    },
    {
     "name": "stderr",
     "output_type": "stream",
     "text": [
      "WARNING:tensorflow:Can save best model only with val_acc available, skipping.\n"
     ]
    },
    {
     "name": "stdout",
     "output_type": "stream",
     "text": [
      "236/236 [==============================] - 19s 81ms/step - loss: 0.0109 - accuracy: 0.9967 - val_loss: 0.0160 - val_accuracy: 0.9923\n",
      "Epoch 48/100\n",
      "236/236 [==============================] - ETA: 0s - loss: 0.0170 - accuracy: 0.9946WARNING:tensorflow:Can save best model only with val_acc available, skipping.\n"
     ]
    },
    {
     "name": "stderr",
     "output_type": "stream",
     "text": [
      "WARNING:tensorflow:Can save best model only with val_acc available, skipping.\n"
     ]
    },
    {
     "name": "stdout",
     "output_type": "stream",
     "text": [
      "236/236 [==============================] - 19s 80ms/step - loss: 0.0170 - accuracy: 0.9946 - val_loss: 0.0149 - val_accuracy: 0.9960\n",
      "Epoch 49/100\n",
      "235/236 [============================>.] - ETA: 0s - loss: 0.0135 - accuracy: 0.9963WARNING:tensorflow:Can save best model only with val_acc available, skipping.\n"
     ]
    },
    {
     "name": "stderr",
     "output_type": "stream",
     "text": [
      "WARNING:tensorflow:Can save best model only with val_acc available, skipping.\n"
     ]
    },
    {
     "name": "stdout",
     "output_type": "stream",
     "text": [
      "236/236 [==============================] - 19s 81ms/step - loss: 0.0135 - accuracy: 0.9964 - val_loss: 1.3989 - val_accuracy: 0.7240\n",
      "Epoch 50/100\n",
      "236/236 [==============================] - ETA: 0s - loss: 0.0161 - accuracy: 0.9951WARNING:tensorflow:Can save best model only with val_acc available, skipping.\n"
     ]
    },
    {
     "name": "stderr",
     "output_type": "stream",
     "text": [
      "WARNING:tensorflow:Can save best model only with val_acc available, skipping.\n"
     ]
    },
    {
     "name": "stdout",
     "output_type": "stream",
     "text": [
      "236/236 [==============================] - 19s 82ms/step - loss: 0.0161 - accuracy: 0.9951 - val_loss: 0.5341 - val_accuracy: 0.8678\n",
      "Epoch 51/100\n",
      "236/236 [==============================] - ETA: 0s - loss: 0.0200 - accuracy: 0.9943WARNING:tensorflow:Can save best model only with val_acc available, skipping.\n"
     ]
    },
    {
     "name": "stderr",
     "output_type": "stream",
     "text": [
      "WARNING:tensorflow:Can save best model only with val_acc available, skipping.\n"
     ]
    },
    {
     "name": "stdout",
     "output_type": "stream",
     "text": [
      "236/236 [==============================] - 19s 83ms/step - loss: 0.0200 - accuracy: 0.9943 - val_loss: 0.3104 - val_accuracy: 0.9098\n",
      "Epoch 52/100\n",
      "235/236 [============================>.] - ETA: 0s - loss: 0.0086 - accuracy: 0.9971WARNING:tensorflow:Can save best model only with val_acc available, skipping.\n"
     ]
    },
    {
     "name": "stderr",
     "output_type": "stream",
     "text": [
      "WARNING:tensorflow:Can save best model only with val_acc available, skipping.\n"
     ]
    },
    {
     "name": "stdout",
     "output_type": "stream",
     "text": [
      "236/236 [==============================] - 19s 80ms/step - loss: 0.0086 - accuracy: 0.9971 - val_loss: 0.0847 - val_accuracy: 0.9786\n",
      "Epoch 53/100\n",
      "236/236 [==============================] - ETA: 0s - loss: 0.0129 - accuracy: 0.9963WARNING:tensorflow:Can save best model only with val_acc available, skipping.\n"
     ]
    },
    {
     "name": "stderr",
     "output_type": "stream",
     "text": [
      "WARNING:tensorflow:Can save best model only with val_acc available, skipping.\n"
     ]
    },
    {
     "name": "stdout",
     "output_type": "stream",
     "text": [
      "236/236 [==============================] - 19s 83ms/step - loss: 0.0129 - accuracy: 0.9963 - val_loss: 0.2587 - val_accuracy: 0.9204\n",
      "Epoch 54/100\n",
      "236/236 [==============================] - ETA: 0s - loss: 0.0114 - accuracy: 0.9964WARNING:tensorflow:Can save best model only with val_acc available, skipping.\n"
     ]
    },
    {
     "name": "stderr",
     "output_type": "stream",
     "text": [
      "WARNING:tensorflow:Can save best model only with val_acc available, skipping.\n"
     ]
    },
    {
     "name": "stdout",
     "output_type": "stream",
     "text": [
      "236/236 [==============================] - 19s 83ms/step - loss: 0.0114 - accuracy: 0.9964 - val_loss: 0.2142 - val_accuracy: 0.9369\n",
      "Epoch 55/100\n",
      "236/236 [==============================] - ETA: 0s - loss: 0.0102 - accuracy: 0.9965WARNING:tensorflow:Can save best model only with val_acc available, skipping.\n"
     ]
    },
    {
     "name": "stderr",
     "output_type": "stream",
     "text": [
      "WARNING:tensorflow:Can save best model only with val_acc available, skipping.\n"
     ]
    },
    {
     "name": "stdout",
     "output_type": "stream",
     "text": [
      "236/236 [==============================] - 19s 82ms/step - loss: 0.0102 - accuracy: 0.9965 - val_loss: 0.3089 - val_accuracy: 0.9125\n",
      "Epoch 56/100\n",
      "236/236 [==============================] - ETA: 0s - loss: 0.0090 - accuracy: 0.9970WARNING:tensorflow:Can save best model only with val_acc available, skipping.\n"
     ]
    },
    {
     "name": "stderr",
     "output_type": "stream",
     "text": [
      "WARNING:tensorflow:Can save best model only with val_acc available, skipping.\n"
     ]
    },
    {
     "name": "stdout",
     "output_type": "stream",
     "text": [
      "236/236 [==============================] - 20s 83ms/step - loss: 0.0090 - accuracy: 0.9970 - val_loss: 0.0430 - val_accuracy: 0.9863\n",
      "Epoch 57/100\n",
      "236/236 [==============================] - ETA: 0s - loss: 0.0110 - accuracy: 0.9964WARNING:tensorflow:Can save best model only with val_acc available, skipping.\n"
     ]
    },
    {
     "name": "stderr",
     "output_type": "stream",
     "text": [
      "WARNING:tensorflow:Can save best model only with val_acc available, skipping.\n"
     ]
    },
    {
     "name": "stdout",
     "output_type": "stream",
     "text": [
      "236/236 [==============================] - 21s 87ms/step - loss: 0.0110 - accuracy: 0.9964 - val_loss: 0.2705 - val_accuracy: 0.9265\n",
      "Epoch 58/100\n",
      "235/236 [============================>.] - ETA: 0s - loss: 0.0180 - accuracy: 0.9940WARNING:tensorflow:Can save best model only with val_acc available, skipping.\n"
     ]
    },
    {
     "name": "stderr",
     "output_type": "stream",
     "text": [
      "WARNING:tensorflow:Can save best model only with val_acc available, skipping.\n"
     ]
    },
    {
     "name": "stdout",
     "output_type": "stream",
     "text": [
      "236/236 [==============================] - 19s 81ms/step - loss: 0.0184 - accuracy: 0.9939 - val_loss: 0.0365 - val_accuracy: 0.9830\n",
      "Epoch 59/100\n",
      "236/236 [==============================] - ETA: 0s - loss: 0.0085 - accuracy: 0.9975WARNING:tensorflow:Can save best model only with val_acc available, skipping.\n"
     ]
    },
    {
     "name": "stderr",
     "output_type": "stream",
     "text": [
      "WARNING:tensorflow:Can save best model only with val_acc available, skipping.\n"
     ]
    },
    {
     "name": "stdout",
     "output_type": "stream",
     "text": [
      "236/236 [==============================] - 19s 79ms/step - loss: 0.0085 - accuracy: 0.9975 - val_loss: 0.0577 - val_accuracy: 0.9833\n",
      "Epoch 60/100\n",
      "235/236 [============================>.] - ETA: 0s - loss: 0.0045 - accuracy: 0.9985WARNING:tensorflow:Can save best model only with val_acc available, skipping.\n"
     ]
    },
    {
     "name": "stderr",
     "output_type": "stream",
     "text": [
      "WARNING:tensorflow:Can save best model only with val_acc available, skipping.\n"
     ]
    },
    {
     "name": "stdout",
     "output_type": "stream",
     "text": [
      "236/236 [==============================] - 20s 85ms/step - loss: 0.0045 - accuracy: 0.9985 - val_loss: 0.5939 - val_accuracy: 0.8512\n",
      "Epoch 61/100\n",
      "236/236 [==============================] - ETA: 0s - loss: 0.0076 - accuracy: 0.9977WARNING:tensorflow:Can save best model only with val_acc available, skipping.\n"
     ]
    },
    {
     "name": "stderr",
     "output_type": "stream",
     "text": [
      "WARNING:tensorflow:Can save best model only with val_acc available, skipping.\n"
     ]
    },
    {
     "name": "stdout",
     "output_type": "stream",
     "text": [
      "236/236 [==============================] - 19s 80ms/step - loss: 0.0076 - accuracy: 0.9977 - val_loss: 0.1132 - val_accuracy: 0.9654\n",
      "Epoch 62/100\n",
      "236/236 [==============================] - ETA: 0s - loss: 0.0160 - accuracy: 0.9946WARNING:tensorflow:Can save best model only with val_acc available, skipping.\n"
     ]
    },
    {
     "name": "stderr",
     "output_type": "stream",
     "text": [
      "WARNING:tensorflow:Can save best model only with val_acc available, skipping.\n"
     ]
    },
    {
     "name": "stdout",
     "output_type": "stream",
     "text": [
      "236/236 [==============================] - 19s 80ms/step - loss: 0.0160 - accuracy: 0.9946 - val_loss: 0.7465 - val_accuracy: 0.7882\n",
      "Epoch 63/100\n",
      "236/236 [==============================] - ETA: 0s - loss: 0.0151 - accuracy: 0.9956WARNING:tensorflow:Can save best model only with val_acc available, skipping.\n"
     ]
    },
    {
     "name": "stderr",
     "output_type": "stream",
     "text": [
      "WARNING:tensorflow:Can save best model only with val_acc available, skipping.\n"
     ]
    },
    {
     "name": "stdout",
     "output_type": "stream",
     "text": [
      "236/236 [==============================] - 19s 82ms/step - loss: 0.0151 - accuracy: 0.9956 - val_loss: 0.0597 - val_accuracy: 0.9800\n",
      "Epoch 64/100\n",
      "236/236 [==============================] - ETA: 0s - loss: 0.0061 - accuracy: 0.9981WARNING:tensorflow:Can save best model only with val_acc available, skipping.\n"
     ]
    },
    {
     "name": "stderr",
     "output_type": "stream",
     "text": [
      "WARNING:tensorflow:Can save best model only with val_acc available, skipping.\n"
     ]
    },
    {
     "name": "stdout",
     "output_type": "stream",
     "text": [
      "236/236 [==============================] - 20s 83ms/step - loss: 0.0061 - accuracy: 0.9981 - val_loss: 0.0034 - val_accuracy: 0.9992\n",
      "Epoch 65/100\n",
      "236/236 [==============================] - ETA: 0s - loss: 0.0065 - accuracy: 0.9981WARNING:tensorflow:Can save best model only with val_acc available, skipping.\n"
     ]
    },
    {
     "name": "stderr",
     "output_type": "stream",
     "text": [
      "WARNING:tensorflow:Can save best model only with val_acc available, skipping.\n"
     ]
    },
    {
     "name": "stdout",
     "output_type": "stream",
     "text": [
      "236/236 [==============================] - 19s 79ms/step - loss: 0.0065 - accuracy: 0.9981 - val_loss: 0.1644 - val_accuracy: 0.9469\n",
      "Epoch 66/100\n",
      "236/236 [==============================] - ETA: 0s - loss: 0.0095 - accuracy: 0.9969WARNING:tensorflow:Can save best model only with val_acc available, skipping.\n"
     ]
    },
    {
     "name": "stderr",
     "output_type": "stream",
     "text": [
      "WARNING:tensorflow:Can save best model only with val_acc available, skipping.\n"
     ]
    },
    {
     "name": "stdout",
     "output_type": "stream",
     "text": [
      "236/236 [==============================] - 19s 79ms/step - loss: 0.0095 - accuracy: 0.9969 - val_loss: 0.7955 - val_accuracy: 0.7977\n",
      "Epoch 67/100\n",
      "236/236 [==============================] - ETA: 0s - loss: 0.0100 - accuracy: 0.9969WARNING:tensorflow:Can save best model only with val_acc available, skipping.\n"
     ]
    },
    {
     "name": "stderr",
     "output_type": "stream",
     "text": [
      "WARNING:tensorflow:Can save best model only with val_acc available, skipping.\n"
     ]
    },
    {
     "name": "stdout",
     "output_type": "stream",
     "text": [
      "236/236 [==============================] - 19s 80ms/step - loss: 0.0100 - accuracy: 0.9969 - val_loss: 0.0601 - val_accuracy: 0.9812\n",
      "Epoch 68/100\n",
      "236/236 [==============================] - ETA: 0s - loss: 0.0073 - accuracy: 0.9978WARNING:tensorflow:Can save best model only with val_acc available, skipping.\n"
     ]
    },
    {
     "name": "stderr",
     "output_type": "stream",
     "text": [
      "WARNING:tensorflow:Can save best model only with val_acc available, skipping.\n"
     ]
    },
    {
     "name": "stdout",
     "output_type": "stream",
     "text": [
      "236/236 [==============================] - 19s 82ms/step - loss: 0.0073 - accuracy: 0.9978 - val_loss: 0.0198 - val_accuracy: 0.9950\n",
      "Epoch 69/100\n",
      "236/236 [==============================] - ETA: 0s - loss: 0.0113 - accuracy: 0.9967WARNING:tensorflow:Can save best model only with val_acc available, skipping.\n"
     ]
    },
    {
     "name": "stderr",
     "output_type": "stream",
     "text": [
      "WARNING:tensorflow:Can save best model only with val_acc available, skipping.\n"
     ]
    },
    {
     "name": "stdout",
     "output_type": "stream",
     "text": [
      "236/236 [==============================] - 19s 81ms/step - loss: 0.0113 - accuracy: 0.9967 - val_loss: 0.0356 - val_accuracy: 0.9863\n",
      "Epoch 70/100\n",
      "235/236 [============================>.] - ETA: 0s - loss: 0.0155 - accuracy: 0.9954WARNING:tensorflow:Can save best model only with val_acc available, skipping.\n"
     ]
    },
    {
     "name": "stderr",
     "output_type": "stream",
     "text": [
      "WARNING:tensorflow:Can save best model only with val_acc available, skipping.\n"
     ]
    },
    {
     "name": "stdout",
     "output_type": "stream",
     "text": [
      "236/236 [==============================] - 19s 79ms/step - loss: 0.0154 - accuracy: 0.9954 - val_loss: 0.1987 - val_accuracy: 0.9389\n",
      "Epoch 71/100\n",
      "236/236 [==============================] - ETA: 0s - loss: 0.0072 - accuracy: 0.9981WARNING:tensorflow:Can save best model only with val_acc available, skipping.\n"
     ]
    },
    {
     "name": "stderr",
     "output_type": "stream",
     "text": [
      "WARNING:tensorflow:Can save best model only with val_acc available, skipping.\n"
     ]
    },
    {
     "name": "stdout",
     "output_type": "stream",
     "text": [
      "236/236 [==============================] - 19s 80ms/step - loss: 0.0072 - accuracy: 0.9981 - val_loss: 0.0554 - val_accuracy: 0.9797\n",
      "Epoch 72/100\n",
      "236/236 [==============================] - ETA: 0s - loss: 0.0068 - accuracy: 0.9983WARNING:tensorflow:Can save best model only with val_acc available, skipping.\n"
     ]
    },
    {
     "name": "stderr",
     "output_type": "stream",
     "text": [
      "WARNING:tensorflow:Can save best model only with val_acc available, skipping.\n"
     ]
    },
    {
     "name": "stdout",
     "output_type": "stream",
     "text": [
      "236/236 [==============================] - 19s 79ms/step - loss: 0.0068 - accuracy: 0.9983 - val_loss: 0.1756 - val_accuracy: 0.9382\n",
      "Epoch 73/100\n",
      "236/236 [==============================] - ETA: 0s - loss: 0.0088 - accuracy: 0.9972WARNING:tensorflow:Can save best model only with val_acc available, skipping.\n"
     ]
    },
    {
     "name": "stderr",
     "output_type": "stream",
     "text": [
      "WARNING:tensorflow:Can save best model only with val_acc available, skipping.\n"
     ]
    },
    {
     "name": "stdout",
     "output_type": "stream",
     "text": [
      "236/236 [==============================] - 19s 81ms/step - loss: 0.0088 - accuracy: 0.9972 - val_loss: 1.0117 - val_accuracy: 0.7968\n",
      "Epoch 74/100\n",
      "236/236 [==============================] - ETA: 0s - loss: 0.0090 - accuracy: 0.9974WARNING:tensorflow:Can save best model only with val_acc available, skipping.\n"
     ]
    },
    {
     "name": "stderr",
     "output_type": "stream",
     "text": [
      "WARNING:tensorflow:Can save best model only with val_acc available, skipping.\n"
     ]
    },
    {
     "name": "stdout",
     "output_type": "stream",
     "text": [
      "236/236 [==============================] - 19s 79ms/step - loss: 0.0090 - accuracy: 0.9974 - val_loss: 0.2907 - val_accuracy: 0.9121\n",
      "Epoch 75/100\n",
      "236/236 [==============================] - ETA: 0s - loss: 0.0094 - accuracy: 0.9971WARNING:tensorflow:Can save best model only with val_acc available, skipping.\n"
     ]
    },
    {
     "name": "stderr",
     "output_type": "stream",
     "text": [
      "WARNING:tensorflow:Can save best model only with val_acc available, skipping.\n"
     ]
    },
    {
     "name": "stdout",
     "output_type": "stream",
     "text": [
      "236/236 [==============================] - 19s 80ms/step - loss: 0.0094 - accuracy: 0.9971 - val_loss: 0.2415 - val_accuracy: 0.9309\n",
      "Epoch 76/100\n",
      "236/236 [==============================] - ETA: 0s - loss: 0.0045 - accuracy: 0.9989WARNING:tensorflow:Can save best model only with val_acc available, skipping.\n"
     ]
    },
    {
     "name": "stderr",
     "output_type": "stream",
     "text": [
      "WARNING:tensorflow:Can save best model only with val_acc available, skipping.\n"
     ]
    },
    {
     "name": "stdout",
     "output_type": "stream",
     "text": [
      "236/236 [==============================] - 19s 79ms/step - loss: 0.0045 - accuracy: 0.9989 - val_loss: 0.2387 - val_accuracy: 0.9329\n",
      "Epoch 77/100\n",
      "236/236 [==============================] - ETA: 0s - loss: 0.0110 - accuracy: 0.9968WARNING:tensorflow:Can save best model only with val_acc available, skipping.\n"
     ]
    },
    {
     "name": "stderr",
     "output_type": "stream",
     "text": [
      "WARNING:tensorflow:Can save best model only with val_acc available, skipping.\n"
     ]
    },
    {
     "name": "stdout",
     "output_type": "stream",
     "text": [
      "236/236 [==============================] - 20s 83ms/step - loss: 0.0110 - accuracy: 0.9968 - val_loss: 0.9044 - val_accuracy: 0.7904\n",
      "Epoch 78/100\n",
      "236/236 [==============================] - ETA: 0s - loss: 0.0125 - accuracy: 0.9959WARNING:tensorflow:Can save best model only with val_acc available, skipping.\n"
     ]
    },
    {
     "name": "stderr",
     "output_type": "stream",
     "text": [
      "WARNING:tensorflow:Can save best model only with val_acc available, skipping.\n"
     ]
    },
    {
     "name": "stdout",
     "output_type": "stream",
     "text": [
      "236/236 [==============================] - 20s 83ms/step - loss: 0.0125 - accuracy: 0.9959 - val_loss: 0.0224 - val_accuracy: 0.9903\n",
      "Epoch 79/100\n",
      "236/236 [==============================] - ETA: 0s - loss: 0.0036 - accuracy: 0.9989WARNING:tensorflow:Can save best model only with val_acc available, skipping.\n"
     ]
    },
    {
     "name": "stderr",
     "output_type": "stream",
     "text": [
      "WARNING:tensorflow:Can save best model only with val_acc available, skipping.\n"
     ]
    },
    {
     "name": "stdout",
     "output_type": "stream",
     "text": [
      "236/236 [==============================] - 19s 79ms/step - loss: 0.0036 - accuracy: 0.9989 - val_loss: 0.0287 - val_accuracy: 0.9903\n",
      "Epoch 80/100\n",
      "236/236 [==============================] - ETA: 0s - loss: 0.0069 - accuracy: 0.9979WARNING:tensorflow:Can save best model only with val_acc available, skipping.\n"
     ]
    },
    {
     "name": "stderr",
     "output_type": "stream",
     "text": [
      "WARNING:tensorflow:Can save best model only with val_acc available, skipping.\n"
     ]
    },
    {
     "name": "stdout",
     "output_type": "stream",
     "text": [
      "236/236 [==============================] - 19s 79ms/step - loss: 0.0069 - accuracy: 0.9979 - val_loss: 0.0533 - val_accuracy: 0.9806\n",
      "Epoch 81/100\n",
      "235/236 [============================>.] - ETA: 0s - loss: 0.0039 - accuracy: 0.9988WARNING:tensorflow:Can save best model only with val_acc available, skipping.\n"
     ]
    },
    {
     "name": "stderr",
     "output_type": "stream",
     "text": [
      "WARNING:tensorflow:Can save best model only with val_acc available, skipping.\n"
     ]
    },
    {
     "name": "stdout",
     "output_type": "stream",
     "text": [
      "236/236 [==============================] - 19s 80ms/step - loss: 0.0039 - accuracy: 0.9988 - val_loss: 0.5633 - val_accuracy: 0.8571\n",
      "Epoch 82/100\n",
      "236/236 [==============================] - ETA: 0s - loss: 0.0037 - accuracy: 0.9988WARNING:tensorflow:Can save best model only with val_acc available, skipping.\n"
     ]
    },
    {
     "name": "stderr",
     "output_type": "stream",
     "text": [
      "WARNING:tensorflow:Can save best model only with val_acc available, skipping.\n"
     ]
    },
    {
     "name": "stdout",
     "output_type": "stream",
     "text": [
      "236/236 [==============================] - 19s 80ms/step - loss: 0.0037 - accuracy: 0.9988 - val_loss: 0.6193 - val_accuracy: 0.8595\n",
      "Epoch 83/100\n",
      "236/236 [==============================] - ETA: 0s - loss: 0.0056 - accuracy: 0.9982WARNING:tensorflow:Can save best model only with val_acc available, skipping.\n"
     ]
    },
    {
     "name": "stderr",
     "output_type": "stream",
     "text": [
      "WARNING:tensorflow:Can save best model only with val_acc available, skipping.\n"
     ]
    },
    {
     "name": "stdout",
     "output_type": "stream",
     "text": [
      "236/236 [==============================] - 19s 79ms/step - loss: 0.0056 - accuracy: 0.9982 - val_loss: 0.6126 - val_accuracy: 0.8549\n",
      "Epoch 84/100\n",
      "236/236 [==============================] - ETA: 0s - loss: 0.0176 - accuracy: 0.9948WARNING:tensorflow:Can save best model only with val_acc available, skipping.\n"
     ]
    },
    {
     "name": "stderr",
     "output_type": "stream",
     "text": [
      "WARNING:tensorflow:Can save best model only with val_acc available, skipping.\n"
     ]
    },
    {
     "name": "stdout",
     "output_type": "stream",
     "text": [
      "236/236 [==============================] - 20s 83ms/step - loss: 0.0176 - accuracy: 0.9948 - val_loss: 0.0910 - val_accuracy: 0.9671\n",
      "Epoch 85/100\n",
      "236/236 [==============================] - ETA: 0s - loss: 0.0062 - accuracy: 0.9980WARNING:tensorflow:Can save best model only with val_acc available, skipping.\n"
     ]
    },
    {
     "name": "stderr",
     "output_type": "stream",
     "text": [
      "WARNING:tensorflow:Can save best model only with val_acc available, skipping.\n"
     ]
    },
    {
     "name": "stdout",
     "output_type": "stream",
     "text": [
      "236/236 [==============================] - 19s 80ms/step - loss: 0.0062 - accuracy: 0.9980 - val_loss: 0.2212 - val_accuracy: 0.9358\n",
      "Epoch 86/100\n",
      "236/236 [==============================] - ETA: 0s - loss: 0.0026 - accuracy: 0.9992WARNING:tensorflow:Can save best model only with val_acc available, skipping.\n"
     ]
    },
    {
     "name": "stderr",
     "output_type": "stream",
     "text": [
      "WARNING:tensorflow:Can save best model only with val_acc available, skipping.\n"
     ]
    },
    {
     "name": "stdout",
     "output_type": "stream",
     "text": [
      "236/236 [==============================] - 21s 88ms/step - loss: 0.0026 - accuracy: 0.9992 - val_loss: 0.0326 - val_accuracy: 0.9886\n",
      "Epoch 87/100\n",
      "236/236 [==============================] - ETA: 0s - loss: 0.0147 - accuracy: 0.9957WARNING:tensorflow:Can save best model only with val_acc available, skipping.\n"
     ]
    },
    {
     "name": "stderr",
     "output_type": "stream",
     "text": [
      "WARNING:tensorflow:Can save best model only with val_acc available, skipping.\n"
     ]
    },
    {
     "name": "stdout",
     "output_type": "stream",
     "text": [
      "236/236 [==============================] - 19s 81ms/step - loss: 0.0147 - accuracy: 0.9957 - val_loss: 0.0372 - val_accuracy: 0.9932\n",
      "Epoch 88/100\n",
      "235/236 [============================>.] - ETA: 0s - loss: 0.0029 - accuracy: 0.9989WARNING:tensorflow:Can save best model only with val_acc available, skipping.\n"
     ]
    },
    {
     "name": "stderr",
     "output_type": "stream",
     "text": [
      "WARNING:tensorflow:Can save best model only with val_acc available, skipping.\n"
     ]
    },
    {
     "name": "stdout",
     "output_type": "stream",
     "text": [
      "236/236 [==============================] - 19s 80ms/step - loss: 0.0029 - accuracy: 0.9989 - val_loss: 0.0153 - val_accuracy: 0.9967\n",
      "Epoch 89/100\n",
      "236/236 [==============================] - ETA: 0s - loss: 0.0037 - accuracy: 0.9987WARNING:tensorflow:Can save best model only with val_acc available, skipping.\n"
     ]
    },
    {
     "name": "stderr",
     "output_type": "stream",
     "text": [
      "WARNING:tensorflow:Can save best model only with val_acc available, skipping.\n"
     ]
    },
    {
     "name": "stdout",
     "output_type": "stream",
     "text": [
      "236/236 [==============================] - 20s 83ms/step - loss: 0.0037 - accuracy: 0.9987 - val_loss: 0.4157 - val_accuracy: 0.9049\n",
      "Epoch 90/100\n",
      "236/236 [==============================] - ETA: 0s - loss: 0.0095 - accuracy: 0.9969WARNING:tensorflow:Can save best model only with val_acc available, skipping.\n"
     ]
    },
    {
     "name": "stderr",
     "output_type": "stream",
     "text": [
      "WARNING:tensorflow:Can save best model only with val_acc available, skipping.\n"
     ]
    },
    {
     "name": "stdout",
     "output_type": "stream",
     "text": [
      "236/236 [==============================] - 19s 82ms/step - loss: 0.0095 - accuracy: 0.9969 - val_loss: 0.0211 - val_accuracy: 0.9908\n",
      "Epoch 91/100\n",
      "236/236 [==============================] - ETA: 0s - loss: 0.0066 - accuracy: 0.9981WARNING:tensorflow:Can save best model only with val_acc available, skipping.\n"
     ]
    },
    {
     "name": "stderr",
     "output_type": "stream",
     "text": [
      "WARNING:tensorflow:Can save best model only with val_acc available, skipping.\n"
     ]
    },
    {
     "name": "stdout",
     "output_type": "stream",
     "text": [
      "236/236 [==============================] - 19s 79ms/step - loss: 0.0066 - accuracy: 0.9981 - val_loss: 0.4951 - val_accuracy: 0.8750\n",
      "Epoch 92/100\n",
      "236/236 [==============================] - ETA: 0s - loss: 0.0035 - accuracy: 0.9991WARNING:tensorflow:Can save best model only with val_acc available, skipping.\n"
     ]
    },
    {
     "name": "stderr",
     "output_type": "stream",
     "text": [
      "WARNING:tensorflow:Can save best model only with val_acc available, skipping.\n"
     ]
    },
    {
     "name": "stdout",
     "output_type": "stream",
     "text": [
      "236/236 [==============================] - 19s 80ms/step - loss: 0.0035 - accuracy: 0.9991 - val_loss: 0.0080 - val_accuracy: 0.9983\n",
      "Epoch 93/100\n",
      "236/236 [==============================] - ETA: 0s - loss: 0.0029 - accuracy: 0.9992WARNING:tensorflow:Can save best model only with val_acc available, skipping.\n"
     ]
    },
    {
     "name": "stderr",
     "output_type": "stream",
     "text": [
      "WARNING:tensorflow:Can save best model only with val_acc available, skipping.\n"
     ]
    },
    {
     "name": "stdout",
     "output_type": "stream",
     "text": [
      "236/236 [==============================] - 19s 80ms/step - loss: 0.0029 - accuracy: 0.9992 - val_loss: 0.7388 - val_accuracy: 0.8284\n",
      "Epoch 94/100\n",
      "236/236 [==============================] - ETA: 0s - loss: 0.0088 - accuracy: 0.9972WARNING:tensorflow:Can save best model only with val_acc available, skipping.\n"
     ]
    },
    {
     "name": "stderr",
     "output_type": "stream",
     "text": [
      "WARNING:tensorflow:Can save best model only with val_acc available, skipping.\n"
     ]
    },
    {
     "name": "stdout",
     "output_type": "stream",
     "text": [
      "236/236 [==============================] - 19s 82ms/step - loss: 0.0088 - accuracy: 0.9972 - val_loss: 1.1632 - val_accuracy: 0.7732\n",
      "Epoch 95/100\n",
      "236/236 [==============================] - ETA: 0s - loss: 0.0112 - accuracy: 0.9968WARNING:tensorflow:Can save best model only with val_acc available, skipping.\n"
     ]
    },
    {
     "name": "stderr",
     "output_type": "stream",
     "text": [
      "WARNING:tensorflow:Can save best model only with val_acc available, skipping.\n"
     ]
    },
    {
     "name": "stdout",
     "output_type": "stream",
     "text": [
      "236/236 [==============================] - 19s 82ms/step - loss: 0.0112 - accuracy: 0.9968 - val_loss: 0.0344 - val_accuracy: 0.9923\n",
      "Epoch 96/100\n",
      "236/236 [==============================] - ETA: 0s - loss: 0.0070 - accuracy: 0.9978WARNING:tensorflow:Can save best model only with val_acc available, skipping.\n"
     ]
    },
    {
     "name": "stderr",
     "output_type": "stream",
     "text": [
      "WARNING:tensorflow:Can save best model only with val_acc available, skipping.\n"
     ]
    },
    {
     "name": "stdout",
     "output_type": "stream",
     "text": [
      "236/236 [==============================] - 19s 79ms/step - loss: 0.0070 - accuracy: 0.9978 - val_loss: 0.0632 - val_accuracy: 0.9785\n",
      "Epoch 97/100\n",
      "236/236 [==============================] - ETA: 0s - loss: 0.0042 - accuracy: 0.9989WARNING:tensorflow:Can save best model only with val_acc available, skipping.\n"
     ]
    },
    {
     "name": "stderr",
     "output_type": "stream",
     "text": [
      "WARNING:tensorflow:Can save best model only with val_acc available, skipping.\n"
     ]
    },
    {
     "name": "stdout",
     "output_type": "stream",
     "text": [
      "236/236 [==============================] - 19s 81ms/step - loss: 0.0042 - accuracy: 0.9989 - val_loss: 0.0747 - val_accuracy: 0.9773\n",
      "Epoch 98/100\n",
      "236/236 [==============================] - ETA: 0s - loss: 0.0054 - accuracy: 0.9982WARNING:tensorflow:Can save best model only with val_acc available, skipping.\n"
     ]
    },
    {
     "name": "stderr",
     "output_type": "stream",
     "text": [
      "WARNING:tensorflow:Can save best model only with val_acc available, skipping.\n"
     ]
    },
    {
     "name": "stdout",
     "output_type": "stream",
     "text": [
      "236/236 [==============================] - 19s 81ms/step - loss: 0.0054 - accuracy: 0.9982 - val_loss: 0.0725 - val_accuracy: 0.9834\n",
      "Epoch 99/100\n",
      "236/236 [==============================] - ETA: 0s - loss: 0.0045 - accuracy: 0.9988WARNING:tensorflow:Can save best model only with val_acc available, skipping.\n"
     ]
    },
    {
     "name": "stderr",
     "output_type": "stream",
     "text": [
      "WARNING:tensorflow:Can save best model only with val_acc available, skipping.\n"
     ]
    },
    {
     "name": "stdout",
     "output_type": "stream",
     "text": [
      "236/236 [==============================] - 19s 82ms/step - loss: 0.0045 - accuracy: 0.9988 - val_loss: 0.0154 - val_accuracy: 0.9940\n",
      "Epoch 100/100\n",
      "236/236 [==============================] - ETA: 0s - loss: 0.0072 - accuracy: 0.9975WARNING:tensorflow:Can save best model only with val_acc available, skipping.\n"
     ]
    },
    {
     "name": "stderr",
     "output_type": "stream",
     "text": [
      "WARNING:tensorflow:Can save best model only with val_acc available, skipping.\n"
     ]
    },
    {
     "name": "stdout",
     "output_type": "stream",
     "text": [
      "236/236 [==============================] - 19s 81ms/step - loss: 0.0072 - accuracy: 0.9975 - val_loss: 0.2325 - val_accuracy: 0.9200\n",
      "Duration: 0:35:11.187866\n"
     ]
    }
   ],
   "source": [
    "from datetime import datetime\n",
    "start_time = datetime.now()\n",
    "\n",
    "history = model.fit(x_train,\n",
    "                    y_train,\n",
    "                    validation_split=0.2,\n",
    "                    batch_size = 128,\n",
    "                    epochs = 100,\n",
    "                    shuffle=True,\n",
    "                    callbacks=[callback])\n",
    "\n",
    "end_time = datetime.now()\n",
    "print('Duration: {}'.format(end_time - start_time))"
   ]
  },
  {
   "cell_type": "code",
   "execution_count": 23,
   "id": "cefd57c1-f06a-49d0-a252-a3b930d4b5b6",
   "metadata": {},
   "outputs": [
    {
     "name": "stdout",
     "output_type": "stream",
     "text": [
      "Training history and model saved successfully.\n"
     ]
    }
   ],
   "source": [
    "import pickle\n",
    "training_history = {\n",
    "    'loss': history.history['loss'],\n",
    "    'accuracy': history.history['accuracy'],\n",
    "    'val_loss': history.history['val_loss'],\n",
    "    'val_accuracy': history.history['val_accuracy']\n",
    "}\n",
    "with open('training_history.pkl', 'wb') as file:\n",
    "    pickle.dump(training_history, file)\n",
    "model.save('trained_model.h5')\n",
    "\n",
    "print(\"Training history and model saved successfully.\")"
   ]
  },
  {
   "cell_type": "markdown",
   "id": "e889a828-2a4c-4a82-b6db-a6fa4264ce91",
   "metadata": {},
   "source": [
    "# Model Evaluation"
   ]
  },
  {
   "cell_type": "code",
   "execution_count": 24,
   "id": "83bb1e1b-b025-4b0a-a7ab-d58798c8c9ba",
   "metadata": {},
   "outputs": [
    {
     "data": {
      "image/png": "[encoded data removed]",
      "text/plain": [
       "<Figure size 640x480 with 1 Axes>"
      ]
     },
     "metadata": {},
     "output_type": "display_data"
    }
   ],
   "source": [
    "#plot of accuracy vs epoch\n",
    "plt.plot(history.history['accuracy'])\n",
    "plt.plot(history.history['val_accuracy'])\n",
    "plt.title('model accuracy')\n",
    "plt.ylabel('accuracy')\n",
    "plt.xlabel('epoch')\n",
    "plt.legend(['train', 'val'], loc='upper left')\n",
    "plt.show()"
   ]
  },
  {
   "cell_type": "code",
   "execution_count": 25,
   "id": "d5fab8ad-6f14-4798-9e7c-1bd919cb8072",
   "metadata": {},
   "outputs": [
    {
     "data": {
      "image/png": "[encoded data removed]",
      "text/plain": [
       "<Figure size 640x480 with 1 Axes>"
      ]
     },
     "metadata": {},
     "output_type": "display_data"
    }
   ],
   "source": [
    "#plot of loss vs epoch\n",
    "plt.plot(history.history['loss'])\n",
    "plt.plot(history.history['val_loss'])\n",
    "plt.title('model loss')\n",
    "plt.ylabel('loss')\n",
    "plt.xlabel('epoch')\n",
    "plt.legend(['train', 'val'], loc='upper left')\n",
    "plt.show()"
   ]
  },
  {
   "cell_type": "code",
   "execution_count": 26,
   "id": "4f35577b-d0ee-4b09-a48b-cfa7c9427604",
   "metadata": {},
   "outputs": [
    {
     "name": "stdout",
     "output_type": "stream",
     "text": [
      "63/63 [==============================] - 1s 11ms/step - loss: 1.8963 - accuracy: 0.7214\n"
     ]
    }
   ],
   "source": [
    "x_test=np.array(x_test).reshape(-1,28,28,3)\n",
    "loss, acc = model.evaluate(x_test, y_test, verbose=1)"
   ]
  },
  {
   "cell_type": "markdown",
   "id": "241d1659-b563-46c3-bd24-626c8f2951d4",
   "metadata": {},
   "source": [
    "# Result"
   ]
  },
  {
   "cell_type": "code",
   "execution_count": 28,
   "id": "c1d2ba64-f2fc-48e0-ba4e-eea40a9d2eda",
   "metadata": {},
   "outputs": [
    {
     "data": {
      "image/png": "[encoded data removed]",
      "text/plain": [
       "<Figure size 640x480 with 1 Axes>"
      ]
     },
     "metadata": {},
     "output_type": "display_data"
    },
    {
     "name": "stdout",
     "output_type": "stream",
     "text": [
      "1/1 [==============================] - 0s 211ms/step\n",
      "[8.9090173e-07 1.1696529e-06 2.2134634e-05 2.8534245e-07 9.9995279e-01\n",
      " 1.1825717e-06 2.1616277e-05]\n",
      "('nv', ' melanocytic nevi')\n"
     ]
    }
   ],
   "source": [
    "import PIL\n",
    "import matplotlib.pyplot as plt\n",
    "import numpy as np\n",
    "image = PIL.Image.open(r\"C:\\Users\\hch0a\\OneDrive\\Desktop\\skin\\data\\HAM10000_images_part_1\\ISIC_0024319.jpg\")\n",
    "image = image.resize((28, 28))\n",
    "img = np.array(image)\n",
    "\n",
    "plt.imshow(img)\n",
    "plt.axis('off') \n",
    "plt.show()\n",
    "img = x_test[1]\n",
    "img = np.array(image).reshape(-1, 28, 28, 3)\n",
    "result = model.predict(img)\n",
    "print(result[0])\n",
    "result = result.tolist()\n",
    "max_prob = max(result[0])\n",
    "class_ind = result[0].index(max_prob)\n",
    "print(classes[class_ind])"
   ]
  },
  {
   "cell_type": "code",
   "execution_count": 29,
   "id": "e86b4df0-964f-46f1-8d3b-35409a1223dc",
   "metadata": {},
   "outputs": [
    {
     "data": {
      "image/png": "[encoded data removed]",
      "text/plain": [
       "<Figure size 640x480 with 1 Axes>"
      ]
     },
     "metadata": {},
     "output_type": "display_data"
    },
    {
     "name": "stdout",
     "output_type": "stream",
     "text": [
      "1/1 [==============================] - 0s 29ms/step\n",
      "[3.1533846e-06 3.3785220e-06 9.9997127e-01 4.9972834e-07 4.3848263e-06\n",
      " 1.6674754e-07 1.7147819e-05]\n",
      "('bkl', 'benign keratosis-like lesions')\n"
     ]
    }
   ],
   "source": [
    "import requests\n",
    "from PIL import Image\n",
    "import matplotlib.pyplot as plt\n",
    "import numpy as np\n",
    "from io import BytesIO \n",
    "\n",
    "image = PIL.Image.open(r\"C:\\Users\\hch0a\\OneDrive\\Desktop\\skin\\data\\HAM10000_images_part_1\\ISIC_0024420.jpg\")\n",
    "image = image.resize((28, 28))\n",
    "img = np.array(image)\n",
    "plt.imshow(img)\n",
    "plt.axis('off')\n",
    "plt.show()\n",
    "img = x_test[1]\n",
    "img = np.array(image).reshape(-1, 28, 28, 3)\n",
    "result = model.predict(img)\n",
    "print(result[0])\n",
    "result = result.tolist()\n",
    "max_prob = max(result[0])\n",
    "class_ind = result[0].index(max_prob)\n",
    "print(classes[class_ind])"
   ]
  },
  {
   "cell_type": "code",
   "execution_count": null,
   "id": "299484fd-4739-4049-ba8e-729c13de8668",
   "metadata": {},
   "outputs": [],
   "source": [
    "#plot of accuracy vs epoch\n",
    "plt.plot(history.history['accuracy'])\n",
    "plt.plot(history.history['val_accuracy'])\n",
    "plt.title('model accuracy')\n",
    "plt.ylabel('accuracy')\n",
    "plt.xlabel('epoch')\n",
    "plt.legend(['train', 'val'], loc='upper left')\n",
    "plt.show()"
   ]
  }
 ],
 "metadata": {
  "kernelspec": {
   "display_name": "Python 3 (ipykernel)",
   "language": "python",
   "name": "python3"
  },
  "language_info": {
   "codemirror_mode": {
    "name": "ipython",
    "version": 3
   },
   "file_extension": ".py",
   "mimetype": "text/x-python",
   "name": "python",
   "nbconvert_exporter": "python",
   "pygments_lexer": "ipython3",
   "version": "3.12.3"
  }
 },
 "nbformat": 4,
 "nbformat_minor": 5
}
